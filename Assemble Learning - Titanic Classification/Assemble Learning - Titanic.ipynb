{
 "cells": [
  {
   "cell_type": "code",
   "execution_count": 1,
   "id": "831fd55c",
   "metadata": {},
   "outputs": [],
   "source": [
    "# =============================================================================\n",
    "# #import Library\n",
    "# =============================================================================\n",
    "import numpy as np\n",
    "import pandas as pd\n",
    "import matplotlib.pyplot as plt\n",
    "import seaborn as sns\n",
    "from sklearn.impute import SimpleImputer\n",
    "from sklearn.pipeline import make_pipeline\n",
    "from sklearn.preprocessing import StandardScaler, OneHotEncoder\n",
    "from sklearn.compose import ColumnTransformer\n",
    "from sklearn.model_selection import train_test_split"
   ]
  },
  {
   "cell_type": "code",
   "execution_count": 2,
   "id": "ba9edeed",
   "metadata": {},
   "outputs": [],
   "source": [
    "# =============================================================================\n",
    "# #get raw data\n",
    "# =============================================================================\n",
    "\n",
    "dataset = pd.read_csv('train.csv')\n",
    "predict = pd.read_csv(\"test.csv\")\n",
    "dataset = dataset.set_index(['PassengerId','Name'])\n",
    "predict = predict.set_index(['PassengerId','Name'])\n",
    "dataset = dataset.drop(['Cabin','Ticket'], axis=1)\n",
    "predict = predict.drop(['Cabin','Ticket'], axis=1)\n"
   ]
  },
  {
   "cell_type": "code",
   "execution_count": 3,
   "id": "4967a38e",
   "metadata": {},
   "outputs": [],
   "source": [
    "# =============================================================================\n",
    "# #Feature Engineering\n",
    "# =============================================================================\n",
    "\n",
    "numeric_features = ['Age', 'Fare', 'SibSp', 'Parch']\n",
    "Imp_num = SimpleImputer(strategy='median')\n",
    "Std_Scal = StandardScaler()\n",
    "numeric_transformer = make_pipeline(Imp_num, Std_Scal)\n",
    "\n",
    "categorical_features = ['Embarked', 'Sex', 'Pclass']\n",
    "Imp_cat = SimpleImputer(strategy='constant', fill_value='S')\n",
    "onehot = OneHotEncoder(handle_unknown='ignore')\n",
    "categorical_transformer = make_pipeline(Imp_cat, onehot)\n",
    "\n",
    "preprocessor = ColumnTransformer(\n",
    "transformers=[\n",
    "('num', numeric_transformer, numeric_features),\n",
    "('cat', categorical_transformer, categorical_features)])\n",
    "\n",
    "y = dataset['Survived'].values\n",
    "X = dataset.drop(['Survived'], axis=1)\n",
    "\n",
    "predict_X = preprocessor.fit_transform(predict)\n",
    "X = preprocessor.fit_transform(dataset)\n",
    "\n",
    "# =============================================================================\n",
    "# # Split Train & Test Set\n",
    "# =============================================================================\n",
    "X_train, X_test, y_train, y_test = train_test_split(X, y, test_size = 0.05, random_state = 14)\n",
    "\n"
   ]
  },
  {
   "cell_type": "code",
   "execution_count": 4,
   "id": "f3527343",
   "metadata": {},
   "outputs": [
    {
     "name": "stdout",
     "output_type": "stream",
     "text": [
      "LogisticRegression 0.8\n",
      "RandomForestClassifier 0.8\n",
      "SVC 0.8444444444444444\n",
      "KNeighborsClassifier 0.8222222222222222\n",
      "DecisionTreeClassifier 0.8444444444444444\n",
      "BernoulliNB 0.7555555555555555\n",
      "VotingClassifier 0.8\n",
      "BaggingClassifier 0.8222222222222222\n"
     ]
    }
   ],
   "source": [
    "# =============================================================================\n",
    "# #'''Classifier'''\n",
    "# =============================================================================\n",
    "\n",
    "from sklearn.ensemble import RandomForestClassifier\n",
    "from sklearn.ensemble import VotingClassifier\n",
    "from sklearn.linear_model import LogisticRegression\n",
    "from sklearn.svm import SVC\n",
    "from sklearn.neighbors import KNeighborsClassifier\n",
    "from sklearn.tree import DecisionTreeClassifier\n",
    "from sklearn.naive_bayes import BernoulliNB\n",
    "from sklearn.metrics import accuracy_score\n",
    "\n",
    "'''VotingClassifier'''\n",
    "knn_clf = KNeighborsClassifier(n_neighbors = 15, metric = 'minkowski', p = 2,algorithm='brute')\n",
    "log_clf = LogisticRegression(solver='liblinear',random_state=0)\n",
    "rnd_clf = RandomForestClassifier(n_estimators=15)\n",
    "svm_clf = SVC(probability=True, gamma = 0.6, kernel = 'poly',degree=2,random_state=0)\n",
    "dtc_clf = DecisionTreeClassifier(random_state=0,min_samples_split =3,min_samples_leaf =5)\n",
    "BNB_clf = BernoulliNB()\n",
    "\n",
    "voting_clf = VotingClassifier(estimators=[('lr', log_clf), \n",
    "                                          ('rf', rnd_clf),\n",
    "                                          ('svc', svm_clf),\n",
    "                                          ('knn',knn_clf),\n",
    "                                          ('dtc',dtc_clf),\n",
    "                                          ('BNB',BNB_clf)],\n",
    "                                          voting='soft',\n",
    "                                          flatten_transform=True)\n",
    "voting_clf.fit(X_train, y_train)\n",
    "\n",
    "\n",
    "'''BaggingClassifier'''\n",
    "from sklearn.ensemble import BaggingClassifier\n",
    "\n",
    "bag_clf = BaggingClassifier(rnd_clf, \n",
    "                            n_estimators=30,\n",
    "                            max_samples=100, \n",
    "                            bootstrap=True, \n",
    "                            n_jobs=-1,\n",
    "                            oob_score=True)\n",
    "\n",
    "\n",
    "for clf in (log_clf, rnd_clf, svm_clf, knn_clf, dtc_clf,BNB_clf, voting_clf, bag_clf ):\n",
    "    clf.fit(X_train, y_train)\n",
    "    y_pred = clf.predict(X_test)\n",
    "    print(clf.__class__.__name__, accuracy_score(y_test, y_pred))\n"
   ]
  },
  {
   "cell_type": "code",
   "execution_count": null,
   "id": "bb98e285",
   "metadata": {},
   "outputs": [],
   "source": [
    "# =============================================================================\n",
    "# #Output Results\n",
    "# =============================================================================\n",
    "predict_y  = pd.DataFrame(voting_clf.predict(predict_X))\n",
    "index = pd.Series(list(zip(*predict.index.values))[0])\n",
    "predict_y = predict_y.set_index(index)\n",
    "predict_y = predict_y.reset_index()\n",
    "predict_y = predict_y.rename(columns={0:\"Survived\",\"index\":\"PassengerId\"})\n",
    "predict_y.to_csv('predications_VotingClassifier_2.csv', sep=',', index=False, encoding='utf-8')"
   ]
  }
 ],
 "metadata": {
  "kernelspec": {
   "display_name": "Python 3",
   "language": "python",
   "name": "python3"
  },
  "language_info": {
   "codemirror_mode": {
    "name": "ipython",
    "version": 3
   },
   "file_extension": ".py",
   "mimetype": "text/x-python",
   "name": "python",
   "nbconvert_exporter": "python",
   "pygments_lexer": "ipython3",
   "version": "3.8.8"
  }
 },
 "nbformat": 4,
 "nbformat_minor": 5
}
