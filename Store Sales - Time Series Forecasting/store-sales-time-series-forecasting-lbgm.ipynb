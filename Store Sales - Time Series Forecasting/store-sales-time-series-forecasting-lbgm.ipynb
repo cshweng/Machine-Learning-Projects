{
 "cells": [
  {
   "cell_type": "code",
   "execution_count": 1,
   "id": "45fb003c",
   "metadata": {
    "_cell_guid": "b1076dfc-b9ad-4769-8c92-a6c4dae69d19",
    "_uuid": "8f2839f25d086af736a60e9eeb907d3b93b6e0e5",
    "execution": {
     "iopub.execute_input": "2022-08-09T08:02:16.738495Z",
     "iopub.status.busy": "2022-08-09T08:02:16.737256Z",
     "iopub.status.idle": "2022-08-09T08:02:16.752406Z",
     "shell.execute_reply": "2022-08-09T08:02:16.751531Z"
    },
    "papermill": {
     "duration": 0.030154,
     "end_time": "2022-08-09T08:02:16.755422",
     "exception": false,
     "start_time": "2022-08-09T08:02:16.725268",
     "status": "completed"
    },
    "tags": []
   },
   "outputs": [
    {
     "name": "stdout",
     "output_type": "stream",
     "text": [
      "/kaggle/input/store-sales-time-series-forecasting/oil.csv\n",
      "/kaggle/input/store-sales-time-series-forecasting/sample_submission.csv\n",
      "/kaggle/input/store-sales-time-series-forecasting/holidays_events.csv\n",
      "/kaggle/input/store-sales-time-series-forecasting/stores.csv\n",
      "/kaggle/input/store-sales-time-series-forecasting/train.csv\n",
      "/kaggle/input/store-sales-time-series-forecasting/test.csv\n",
      "/kaggle/input/store-sales-time-series-forecasting/transactions.csv\n"
     ]
    }
   ],
   "source": [
    "# This Python 3 environment comes with many helpful analytics libraries installed\n",
    "# It is defined by the kaggle/python Docker image: https://github.com/kaggle/docker-python\n",
    "# For example, here's several helpful packages to load\n",
    "\n",
    "import numpy as np # linear algebra\n",
    "import pandas as pd # data processing, CSV file I/O (e.g. pd.read_csv)\n",
    "\n",
    "# Input data files are available in the read-only \"../input/\" directory\n",
    "# For example, running this (by clicking run or pressing Shift+Enter) will list all files under the input directory\n",
    "\n",
    "import os\n",
    "for dirname, _, filenames in os.walk('/kaggle/input'):\n",
    "    for filename in filenames:\n",
    "        print(os.path.join(dirname, filename))\n",
    "\n",
    "# You can write up to 20GB to the current directory (/kaggle/working/) that gets preserved as output when you create a version using \"Save & Run All\" \n",
    "# You can also write temporary files to /kaggle/temp/, but they won't be saved outside of the current session"
   ]
  },
  {
   "cell_type": "code",
   "execution_count": 2,
   "id": "4b551e34",
   "metadata": {
    "execution": {
     "iopub.execute_input": "2022-08-09T08:02:16.777037Z",
     "iopub.status.busy": "2022-08-09T08:02:16.776074Z",
     "iopub.status.idle": "2022-08-09T08:02:19.268946Z",
     "shell.execute_reply": "2022-08-09T08:02:19.267974Z"
    },
    "papermill": {
     "duration": 2.505467,
     "end_time": "2022-08-09T08:02:19.271693",
     "exception": false,
     "start_time": "2022-08-09T08:02:16.766226",
     "status": "completed"
    },
    "tags": []
   },
   "outputs": [
    {
     "data": {
      "text/html": [
       "<style type='text/css'>\n",
       ".datatable table.frame { margin-bottom: 0; }\n",
       ".datatable table.frame thead { border-bottom: none; }\n",
       ".datatable table.frame tr.coltypes td {  color: #FFFFFF;  line-height: 6px;  padding: 0 0.5em;}\n",
       ".datatable .bool    { background: #DDDD99; }\n",
       ".datatable .object  { background: #565656; }\n",
       ".datatable .int     { background: #5D9E5D; }\n",
       ".datatable .float   { background: #4040CC; }\n",
       ".datatable .str     { background: #CC4040; }\n",
       ".datatable .time    { background: #40CC40; }\n",
       ".datatable .row_index {  background: var(--jp-border-color3);  border-right: 1px solid var(--jp-border-color0);  color: var(--jp-ui-font-color3);  font-size: 9px;}\n",
       ".datatable .frame tbody td { text-align: left; }\n",
       ".datatable .frame tr.coltypes .row_index {  background: var(--jp-border-color0);}\n",
       ".datatable th:nth-child(2) { padding-left: 12px; }\n",
       ".datatable .hellipsis {  color: var(--jp-cell-editor-border-color);}\n",
       ".datatable .vellipsis {  background: var(--jp-layout-color0);  color: var(--jp-cell-editor-border-color);}\n",
       ".datatable .na {  color: var(--jp-cell-editor-border-color);  font-size: 80%;}\n",
       ".datatable .sp {  opacity: 0.25;}\n",
       ".datatable .footer { font-size: 9px; }\n",
       ".datatable .frame_dimensions {  background: var(--jp-border-color3);  border-top: 1px solid var(--jp-border-color0);  color: var(--jp-ui-font-color3);  display: inline-block;  opacity: 0.6;  padding: 1px 10px 1px 5px;}\n",
       "</style>\n"
      ],
      "text/plain": [
       "<IPython.core.display.HTML object>"
      ]
     },
     "metadata": {},
     "output_type": "display_data"
    }
   ],
   "source": [
    "# Import necessary libraries and make necessary arrangements\n",
    "import time\n",
    "import numpy as np\n",
    "import pandas as pd\n",
    "from matplotlib import pyplot as plt\n",
    "import seaborn as sns\n",
    "import xgboost \n",
    "import lightgbm as lgb\n",
    "import warnings\n",
    "from sklearn.preprocessing import LabelEncoder\n",
    "\n",
    "pd.set_option('display.max_columns', None)\n",
    "pd.set_option('display.width', 500)\n",
    "warnings.filterwarnings('ignore')"
   ]
  },
  {
   "cell_type": "code",
   "execution_count": 3,
   "id": "75a2fa65",
   "metadata": {
    "execution": {
     "iopub.execute_input": "2022-08-09T08:02:19.292824Z",
     "iopub.status.busy": "2022-08-09T08:02:19.291649Z",
     "iopub.status.idle": "2022-08-09T08:02:19.310092Z",
     "shell.execute_reply": "2022-08-09T08:02:19.308912Z"
    },
    "papermill": {
     "duration": 0.031708,
     "end_time": "2022-08-09T08:02:19.312791",
     "exception": false,
     "start_time": "2022-08-09T08:02:19.281083",
     "status": "completed"
    },
    "tags": []
   },
   "outputs": [],
   "source": [
    "\n",
    "# Date Features\n",
    "def create_date_features(df):\n",
    "    df['month'] = df.Date.dt.month\n",
    "    df['day_of_month'] = df.Date.dt.day\n",
    "    df['day_of_year'] = df.Date.dt.dayofyear\n",
    "    df['week_of_year'] = df.Date.dt.weekofyear\n",
    "    df['day_of_week'] = df.Date.dt.dayofweek\n",
    "    df['year'] = df.Date.dt.year\n",
    "    #df[\"is_wknd\"] = df.Date.dt.weekday // 4\n",
    "    #df['is_month_start'] = df.Date.dt.is_month_start.astype(int)\n",
    "    #df['is_month_end'] = df.Date.dt.is_month_end.astype(int)\n",
    "    return df\n",
    "\n",
    "# Random Noise\n",
    "def random_noise(dataframe):\n",
    "    return np.random.normal(scale=2.0, size=(len(dataframe),))\n",
    "\n",
    "# Lag/Shifted Features\n",
    "def lag_features(dataframe, lags):\n",
    "    for lag in lags:\n",
    "        dataframe['sales_lag_' + str(lag)] = dataframe.groupby([\"store_nbr\", \"family\"])['sales'].transform(\n",
    "            lambda x: x.shift(lag)) + random_noise(dataframe)\n",
    "    return dataframe\n",
    "\n",
    "# Rolling Mean Features\n",
    "def roll_mean_features(dataframe, windows):\n",
    "    for window in windows:\n",
    "        dataframe['sales_roll_mean_' + str(window)] = dataframe.groupby([\"store_nbr\", \"family\"])['sales']. \\\n",
    "                                                          transform(\n",
    "            lambda x: x.shift(16).rolling(window=window, min_periods=7, win_type=\"triang\").mean()) + random_noise(\n",
    "            dataframe)\n",
    "    return dataframe\n",
    "\n",
    "# Exponentially Weighted Mean Features\n",
    "def ewm_features(dataframe, alphas, lags):\n",
    "    for alpha in alphas:\n",
    "        for lag in lags:\n",
    "            dataframe['sales_ewm_alpha_' + str(alpha).replace(\".\", \"\") + \"_lag_\" + str(lag)] = \\\n",
    "                dataframe.groupby([\"store_nbr\", \"family\"])['sales'].transform(lambda x: x.shift(lag).ewm(alpha=alpha).mean())\n",
    "    return dataframe\n",
    "\n",
    "\n",
    "# Feature Importance\n",
    "def plot_lgb_importances(model, plot=False, num=10):\n",
    "\n",
    "    gain = model.feature_importance('gain')\n",
    "    feat_imp = pd.DataFrame({'feature': model.feature_name(),\n",
    "                             'split': model.feature_importance('split'),\n",
    "                             'gain': 100 * gain / gain.sum()}).sort_values('gain', ascending=False)\n",
    "    if plot:\n",
    "        plt.figure(figsize=(10, 10))\n",
    "        sns.set(font_scale=1)\n",
    "        sns.barplot(x=\"gain\", y=\"feature\", data=feat_imp[0:25])\n",
    "        plt.title('feature')\n",
    "        plt.tight_layout()\n",
    "        plt.show()\n",
    "    else:\n",
    "        print(feat_imp.head(num))\n",
    "        "
   ]
  },
  {
   "cell_type": "code",
   "execution_count": 4,
   "id": "85b34545",
   "metadata": {
    "execution": {
     "iopub.execute_input": "2022-08-09T08:02:19.332983Z",
     "iopub.status.busy": "2022-08-09T08:02:19.332203Z",
     "iopub.status.idle": "2022-08-09T08:02:25.093090Z",
     "shell.execute_reply": "2022-08-09T08:02:25.091757Z"
    },
    "papermill": {
     "duration": 5.774492,
     "end_time": "2022-08-09T08:02:25.096168",
     "exception": false,
     "start_time": "2022-08-09T08:02:19.321676",
     "status": "completed"
    },
    "tags": []
   },
   "outputs": [],
   "source": [
    "df_train=pd.read_csv(\"../input/store-sales-time-series-forecasting/train.csv\",index_col=0)\n",
    "df_test =pd.read_csv(\"../input/store-sales-time-series-forecasting/test.csv\",index_col=0)\n",
    "df_transactions = pd.read_csv(\"../input/store-sales-time-series-forecasting/transactions.csv\")\n",
    "df_stores = pd.read_csv(\"../input/store-sales-time-series-forecasting/stores.csv\")\n",
    "df_holidays = pd.read_csv(\"../input/store-sales-time-series-forecasting/holidays_events.csv\")\n",
    "\n",
    "\n",
    "df_oil = pd.read_csv(\"../input/store-sales-time-series-forecasting/oil.csv\")\n",
    "df_oil['date'] = df_oil['date'].astype(\"datetime64\")\n",
    "df_date = pd.DataFrame(pd.date_range(\"2013-01-01\",\"2017-08-31\"),columns=[\"date\"])\n",
    "df_oil = df_date.merge(df_oil,left_on='date',right_on='date',how='left').fillna(method='ffill').fillna(method='bfill')"
   ]
  },
  {
   "cell_type": "code",
   "execution_count": 5,
   "id": "11f865d0",
   "metadata": {
    "execution": {
     "iopub.execute_input": "2022-08-09T08:02:25.117630Z",
     "iopub.status.busy": "2022-08-09T08:02:25.116376Z",
     "iopub.status.idle": "2022-08-09T08:03:10.442976Z",
     "shell.execute_reply": "2022-08-09T08:03:10.441602Z"
    },
    "papermill": {
     "duration": 45.340635,
     "end_time": "2022-08-09T08:03:10.446018",
     "exception": false,
     "start_time": "2022-08-09T08:02:25.105383",
     "status": "completed"
    },
    "tags": []
   },
   "outputs": [],
   "source": [
    "df_all = df_train.append(df_test)\n",
    "df_all = df_all.merge(df_stores,left_on=\"store_nbr\",right_on=\"store_nbr\",how=\"left\")\n",
    "df_holidays = df_holidays.rename(columns = {\"type\":\"Holiday_type\"})\n",
    "df_all = df_all.merge(df_holidays,left_on=\"date\",right_on=\"date\",how=\"left\")\n",
    "df_all = df_all.merge(df_transactions,left_on=[\"date\",\"store_nbr\"],right_on=[\"date\",\"store_nbr\"],how=\"left\")\n",
    "df_all[\"date\"] = df_all[\"date\"].astype(\"datetime64\")\n",
    "df_all = df_all.merge(df_oil,left_on=\"date\",right_on=\"date\",how=\"left\")\n",
    "df_all = df_all.replace(\",\",\"_\",regex=True)\n",
    "df_all = df_all.rename(columns = {\"date\":\"Date\"})"
   ]
  },
  {
   "cell_type": "code",
   "execution_count": 6,
   "id": "c1eb205a",
   "metadata": {
    "execution": {
     "iopub.execute_input": "2022-08-09T08:03:10.466688Z",
     "iopub.status.busy": "2022-08-09T08:03:10.465710Z",
     "iopub.status.idle": "2022-08-09T08:03:10.706659Z",
     "shell.execute_reply": "2022-08-09T08:03:10.705387Z"
    },
    "papermill": {
     "duration": 0.254009,
     "end_time": "2022-08-09T08:03:10.709280",
     "exception": false,
     "start_time": "2022-08-09T08:03:10.455271",
     "status": "completed"
    },
    "tags": []
   },
   "outputs": [
    {
     "data": {
      "text/plain": [
       "array(['AUTOMOTIVE', 'BABY CARE', 'BEAUTY', 'BEVERAGES', 'BOOKS',\n",
       "       'BREAD/BAKERY', 'CELEBRATION', 'CLEANING', 'DAIRY', 'DELI', 'EGGS',\n",
       "       'FROZEN FOODS', 'GROCERY I', 'GROCERY II', 'HARDWARE',\n",
       "       'HOME AND KITCHEN I', 'HOME AND KITCHEN II', 'HOME APPLIANCES',\n",
       "       'HOME CARE', 'LADIESWEAR', 'LAWN AND GARDEN', 'LINGERIE',\n",
       "       'LIQUOR_WINE_BEER', 'MAGAZINES', 'MEATS', 'PERSONAL CARE',\n",
       "       'PET SUPPLIES', 'PLAYERS AND ELECTRONICS', 'POULTRY',\n",
       "       'PREPARED FOODS', 'PRODUCE', 'SCHOOL AND OFFICE SUPPLIES',\n",
       "       'SEAFOOD'], dtype=object)"
      ]
     },
     "execution_count": 6,
     "metadata": {},
     "output_type": "execute_result"
    }
   ],
   "source": [
    "df_all[\"family\"].unique()"
   ]
  },
  {
   "cell_type": "code",
   "execution_count": 7,
   "id": "6ec251fe",
   "metadata": {
    "execution": {
     "iopub.execute_input": "2022-08-09T08:03:10.729943Z",
     "iopub.status.busy": "2022-08-09T08:03:10.729465Z",
     "iopub.status.idle": "2022-08-09T08:03:10.739514Z",
     "shell.execute_reply": "2022-08-09T08:03:10.738638Z"
    },
    "papermill": {
     "duration": 0.023027,
     "end_time": "2022-08-09T08:03:10.741674",
     "exception": false,
     "start_time": "2022-08-09T08:03:10.718647",
     "status": "completed"
    },
    "tags": []
   },
   "outputs": [
    {
     "data": {
      "text/plain": [
       "Index(['Date', 'store_nbr', 'family', 'sales', 'onpromotion', 'city', 'state', 'type', 'cluster', 'Holiday_type', 'locale', 'locale_name', 'description', 'transferred', 'transactions', 'dcoilwtico'], dtype='object')"
      ]
     },
     "execution_count": 7,
     "metadata": {},
     "output_type": "execute_result"
    }
   ],
   "source": [
    "df_all.columns"
   ]
  },
  {
   "cell_type": "code",
   "execution_count": 8,
   "id": "4c230702",
   "metadata": {
    "execution": {
     "iopub.execute_input": "2022-08-09T08:03:10.762184Z",
     "iopub.status.busy": "2022-08-09T08:03:10.761715Z",
     "iopub.status.idle": "2022-08-09T08:03:11.066663Z",
     "shell.execute_reply": "2022-08-09T08:03:11.065495Z"
    },
    "papermill": {
     "duration": 0.318318,
     "end_time": "2022-08-09T08:03:11.069219",
     "exception": false,
     "start_time": "2022-08-09T08:03:10.750901",
     "status": "completed"
    },
    "tags": []
   },
   "outputs": [
    {
     "data": {
      "text/plain": [
       "(101, 2)"
      ]
     },
     "execution_count": 8,
     "metadata": {},
     "output_type": "execute_result"
    }
   ],
   "source": [
    "df_all[\"description\"].nunique(),df_all[\"transferred\"].nunique()"
   ]
  },
  {
   "cell_type": "code",
   "execution_count": 9,
   "id": "0911e1fa",
   "metadata": {
    "execution": {
     "iopub.execute_input": "2022-08-09T08:03:11.090750Z",
     "iopub.status.busy": "2022-08-09T08:03:11.090233Z",
     "iopub.status.idle": "2022-08-09T08:03:11.329161Z",
     "shell.execute_reply": "2022-08-09T08:03:11.328284Z"
    },
    "papermill": {
     "duration": 0.251769,
     "end_time": "2022-08-09T08:03:11.331350",
     "exception": false,
     "start_time": "2022-08-09T08:03:11.079581",
     "status": "completed"
    },
    "tags": []
   },
   "outputs": [
    {
     "data": {
      "text/html": [
       "<div>\n",
       "<style scoped>\n",
       "    .dataframe tbody tr th:only-of-type {\n",
       "        vertical-align: middle;\n",
       "    }\n",
       "\n",
       "    .dataframe tbody tr th {\n",
       "        vertical-align: top;\n",
       "    }\n",
       "\n",
       "    .dataframe thead th {\n",
       "        text-align: right;\n",
       "    }\n",
       "</style>\n",
       "<table border=\"1\" class=\"dataframe\">\n",
       "  <thead>\n",
       "    <tr style=\"text-align: right;\">\n",
       "      <th></th>\n",
       "      <th>Date</th>\n",
       "      <th>store_nbr</th>\n",
       "      <th>family</th>\n",
       "      <th>sales</th>\n",
       "      <th>onpromotion</th>\n",
       "      <th>city</th>\n",
       "      <th>state</th>\n",
       "      <th>type</th>\n",
       "      <th>cluster</th>\n",
       "      <th>Holiday_type</th>\n",
       "      <th>locale</th>\n",
       "      <th>locale_name</th>\n",
       "      <th>description</th>\n",
       "      <th>transferred</th>\n",
       "      <th>transactions</th>\n",
       "      <th>dcoilwtico</th>\n",
       "    </tr>\n",
       "  </thead>\n",
       "  <tbody>\n",
       "    <tr>\n",
       "      <th>3066789</th>\n",
       "      <td>2017-08-22</td>\n",
       "      <td>9</td>\n",
       "      <td>AUTOMOTIVE</td>\n",
       "      <td>NaN</td>\n",
       "      <td>0</td>\n",
       "      <td>Quito</td>\n",
       "      <td>Pichincha</td>\n",
       "      <td>B</td>\n",
       "      <td>6</td>\n",
       "      <td>NaN</td>\n",
       "      <td>NaN</td>\n",
       "      <td>NaN</td>\n",
       "      <td>NaN</td>\n",
       "      <td>NaN</td>\n",
       "      <td>NaN</td>\n",
       "      <td>47.65</td>\n",
       "    </tr>\n",
       "    <tr>\n",
       "      <th>3068571</th>\n",
       "      <td>2017-08-23</td>\n",
       "      <td>9</td>\n",
       "      <td>AUTOMOTIVE</td>\n",
       "      <td>NaN</td>\n",
       "      <td>0</td>\n",
       "      <td>Quito</td>\n",
       "      <td>Pichincha</td>\n",
       "      <td>B</td>\n",
       "      <td>6</td>\n",
       "      <td>NaN</td>\n",
       "      <td>NaN</td>\n",
       "      <td>NaN</td>\n",
       "      <td>NaN</td>\n",
       "      <td>NaN</td>\n",
       "      <td>NaN</td>\n",
       "      <td>48.45</td>\n",
       "    </tr>\n",
       "    <tr>\n",
       "      <th>3070353</th>\n",
       "      <td>2017-08-24</td>\n",
       "      <td>9</td>\n",
       "      <td>AUTOMOTIVE</td>\n",
       "      <td>NaN</td>\n",
       "      <td>0</td>\n",
       "      <td>Quito</td>\n",
       "      <td>Pichincha</td>\n",
       "      <td>B</td>\n",
       "      <td>6</td>\n",
       "      <td>Holiday</td>\n",
       "      <td>Local</td>\n",
       "      <td>Ambato</td>\n",
       "      <td>Fundacion de Ambato</td>\n",
       "      <td>False</td>\n",
       "      <td>NaN</td>\n",
       "      <td>47.24</td>\n",
       "    </tr>\n",
       "    <tr>\n",
       "      <th>3072135</th>\n",
       "      <td>2017-08-25</td>\n",
       "      <td>9</td>\n",
       "      <td>AUTOMOTIVE</td>\n",
       "      <td>NaN</td>\n",
       "      <td>0</td>\n",
       "      <td>Quito</td>\n",
       "      <td>Pichincha</td>\n",
       "      <td>B</td>\n",
       "      <td>6</td>\n",
       "      <td>NaN</td>\n",
       "      <td>NaN</td>\n",
       "      <td>NaN</td>\n",
       "      <td>NaN</td>\n",
       "      <td>NaN</td>\n",
       "      <td>NaN</td>\n",
       "      <td>47.65</td>\n",
       "    </tr>\n",
       "    <tr>\n",
       "      <th>3073917</th>\n",
       "      <td>2017-08-26</td>\n",
       "      <td>9</td>\n",
       "      <td>AUTOMOTIVE</td>\n",
       "      <td>NaN</td>\n",
       "      <td>0</td>\n",
       "      <td>Quito</td>\n",
       "      <td>Pichincha</td>\n",
       "      <td>B</td>\n",
       "      <td>6</td>\n",
       "      <td>NaN</td>\n",
       "      <td>NaN</td>\n",
       "      <td>NaN</td>\n",
       "      <td>NaN</td>\n",
       "      <td>NaN</td>\n",
       "      <td>NaN</td>\n",
       "      <td>47.65</td>\n",
       "    </tr>\n",
       "    <tr>\n",
       "      <th>3075699</th>\n",
       "      <td>2017-08-27</td>\n",
       "      <td>9</td>\n",
       "      <td>AUTOMOTIVE</td>\n",
       "      <td>NaN</td>\n",
       "      <td>0</td>\n",
       "      <td>Quito</td>\n",
       "      <td>Pichincha</td>\n",
       "      <td>B</td>\n",
       "      <td>6</td>\n",
       "      <td>NaN</td>\n",
       "      <td>NaN</td>\n",
       "      <td>NaN</td>\n",
       "      <td>NaN</td>\n",
       "      <td>NaN</td>\n",
       "      <td>NaN</td>\n",
       "      <td>47.65</td>\n",
       "    </tr>\n",
       "    <tr>\n",
       "      <th>3077481</th>\n",
       "      <td>2017-08-28</td>\n",
       "      <td>9</td>\n",
       "      <td>AUTOMOTIVE</td>\n",
       "      <td>NaN</td>\n",
       "      <td>0</td>\n",
       "      <td>Quito</td>\n",
       "      <td>Pichincha</td>\n",
       "      <td>B</td>\n",
       "      <td>6</td>\n",
       "      <td>NaN</td>\n",
       "      <td>NaN</td>\n",
       "      <td>NaN</td>\n",
       "      <td>NaN</td>\n",
       "      <td>NaN</td>\n",
       "      <td>NaN</td>\n",
       "      <td>46.40</td>\n",
       "    </tr>\n",
       "    <tr>\n",
       "      <th>3079263</th>\n",
       "      <td>2017-08-29</td>\n",
       "      <td>9</td>\n",
       "      <td>AUTOMOTIVE</td>\n",
       "      <td>NaN</td>\n",
       "      <td>0</td>\n",
       "      <td>Quito</td>\n",
       "      <td>Pichincha</td>\n",
       "      <td>B</td>\n",
       "      <td>6</td>\n",
       "      <td>NaN</td>\n",
       "      <td>NaN</td>\n",
       "      <td>NaN</td>\n",
       "      <td>NaN</td>\n",
       "      <td>NaN</td>\n",
       "      <td>NaN</td>\n",
       "      <td>46.46</td>\n",
       "    </tr>\n",
       "    <tr>\n",
       "      <th>3081045</th>\n",
       "      <td>2017-08-30</td>\n",
       "      <td>9</td>\n",
       "      <td>AUTOMOTIVE</td>\n",
       "      <td>NaN</td>\n",
       "      <td>0</td>\n",
       "      <td>Quito</td>\n",
       "      <td>Pichincha</td>\n",
       "      <td>B</td>\n",
       "      <td>6</td>\n",
       "      <td>NaN</td>\n",
       "      <td>NaN</td>\n",
       "      <td>NaN</td>\n",
       "      <td>NaN</td>\n",
       "      <td>NaN</td>\n",
       "      <td>NaN</td>\n",
       "      <td>45.96</td>\n",
       "    </tr>\n",
       "    <tr>\n",
       "      <th>3082827</th>\n",
       "      <td>2017-08-31</td>\n",
       "      <td>9</td>\n",
       "      <td>AUTOMOTIVE</td>\n",
       "      <td>NaN</td>\n",
       "      <td>0</td>\n",
       "      <td>Quito</td>\n",
       "      <td>Pichincha</td>\n",
       "      <td>B</td>\n",
       "      <td>6</td>\n",
       "      <td>NaN</td>\n",
       "      <td>NaN</td>\n",
       "      <td>NaN</td>\n",
       "      <td>NaN</td>\n",
       "      <td>NaN</td>\n",
       "      <td>NaN</td>\n",
       "      <td>47.26</td>\n",
       "    </tr>\n",
       "  </tbody>\n",
       "</table>\n",
       "</div>"
      ],
      "text/plain": [
       "              Date  store_nbr      family  sales  onpromotion   city      state type  cluster Holiday_type locale locale_name          description transferred  transactions  dcoilwtico\n",
       "3066789 2017-08-22          9  AUTOMOTIVE    NaN            0  Quito  Pichincha    B        6          NaN    NaN         NaN                  NaN         NaN           NaN       47.65\n",
       "3068571 2017-08-23          9  AUTOMOTIVE    NaN            0  Quito  Pichincha    B        6          NaN    NaN         NaN                  NaN         NaN           NaN       48.45\n",
       "3070353 2017-08-24          9  AUTOMOTIVE    NaN            0  Quito  Pichincha    B        6      Holiday  Local      Ambato  Fundacion de Ambato       False           NaN       47.24\n",
       "3072135 2017-08-25          9  AUTOMOTIVE    NaN            0  Quito  Pichincha    B        6          NaN    NaN         NaN                  NaN         NaN           NaN       47.65\n",
       "3073917 2017-08-26          9  AUTOMOTIVE    NaN            0  Quito  Pichincha    B        6          NaN    NaN         NaN                  NaN         NaN           NaN       47.65\n",
       "3075699 2017-08-27          9  AUTOMOTIVE    NaN            0  Quito  Pichincha    B        6          NaN    NaN         NaN                  NaN         NaN           NaN       47.65\n",
       "3077481 2017-08-28          9  AUTOMOTIVE    NaN            0  Quito  Pichincha    B        6          NaN    NaN         NaN                  NaN         NaN           NaN       46.40\n",
       "3079263 2017-08-29          9  AUTOMOTIVE    NaN            0  Quito  Pichincha    B        6          NaN    NaN         NaN                  NaN         NaN           NaN       46.46\n",
       "3081045 2017-08-30          9  AUTOMOTIVE    NaN            0  Quito  Pichincha    B        6          NaN    NaN         NaN                  NaN         NaN           NaN       45.96\n",
       "3082827 2017-08-31          9  AUTOMOTIVE    NaN            0  Quito  Pichincha    B        6          NaN    NaN         NaN                  NaN         NaN           NaN       47.26"
      ]
     },
     "execution_count": 9,
     "metadata": {},
     "output_type": "execute_result"
    }
   ],
   "source": [
    "df_all[(df_all[\"store_nbr\"]==9) & (df_all[\"family\"]==\"AUTOMOTIVE\")].tail(10)"
   ]
  },
  {
   "cell_type": "code",
   "execution_count": 10,
   "id": "f8e468f9",
   "metadata": {
    "execution": {
     "iopub.execute_input": "2022-08-09T08:03:11.353286Z",
     "iopub.status.busy": "2022-08-09T08:03:11.352471Z",
     "iopub.status.idle": "2022-08-09T08:03:11.626359Z",
     "shell.execute_reply": "2022-08-09T08:03:11.625088Z"
    },
    "papermill": {
     "duration": 0.288139,
     "end_time": "2022-08-09T08:03:11.629232",
     "exception": false,
     "start_time": "2022-08-09T08:03:11.341093",
     "status": "completed"
    },
    "tags": []
   },
   "outputs": [],
   "source": [
    "col = ['Date',\n",
    "       'store_nbr', \n",
    "       'family', \n",
    "       'sales', \n",
    "       'onpromotion', \n",
    "       #'city', \n",
    "       #'state',\n",
    "       #'type', \n",
    "       'cluster', \n",
    "       'Holiday_type', \n",
    "       'locale', \n",
    "       #'locale_name',\n",
    "       'description', \n",
    "       'transferred',\n",
    "       'dcoilwtico'\n",
    "      ]\n",
    "df = df_all[col]"
   ]
  },
  {
   "cell_type": "code",
   "execution_count": 11,
   "id": "735198fc",
   "metadata": {
    "execution": {
     "iopub.execute_input": "2022-08-09T08:03:11.651367Z",
     "iopub.status.busy": "2022-08-09T08:03:11.650282Z",
     "iopub.status.idle": "2022-08-09T08:03:11.669182Z",
     "shell.execute_reply": "2022-08-09T08:03:11.668163Z"
    },
    "papermill": {
     "duration": 0.032457,
     "end_time": "2022-08-09T08:03:11.671474",
     "exception": false,
     "start_time": "2022-08-09T08:03:11.639017",
     "status": "completed"
    },
    "tags": []
   },
   "outputs": [
    {
     "data": {
      "text/html": [
       "<div>\n",
       "<style scoped>\n",
       "    .dataframe tbody tr th:only-of-type {\n",
       "        vertical-align: middle;\n",
       "    }\n",
       "\n",
       "    .dataframe tbody tr th {\n",
       "        vertical-align: top;\n",
       "    }\n",
       "\n",
       "    .dataframe thead th {\n",
       "        text-align: right;\n",
       "    }\n",
       "</style>\n",
       "<table border=\"1\" class=\"dataframe\">\n",
       "  <thead>\n",
       "    <tr style=\"text-align: right;\">\n",
       "      <th></th>\n",
       "      <th>Date</th>\n",
       "      <th>store_nbr</th>\n",
       "      <th>family</th>\n",
       "      <th>sales</th>\n",
       "      <th>onpromotion</th>\n",
       "      <th>cluster</th>\n",
       "      <th>Holiday_type</th>\n",
       "      <th>locale</th>\n",
       "      <th>description</th>\n",
       "      <th>transferred</th>\n",
       "      <th>dcoilwtico</th>\n",
       "    </tr>\n",
       "  </thead>\n",
       "  <tbody>\n",
       "    <tr>\n",
       "      <th>0</th>\n",
       "      <td>2013-01-01</td>\n",
       "      <td>1</td>\n",
       "      <td>AUTOMOTIVE</td>\n",
       "      <td>0.0</td>\n",
       "      <td>0</td>\n",
       "      <td>13</td>\n",
       "      <td>Holiday</td>\n",
       "      <td>National</td>\n",
       "      <td>Primer dia del ano</td>\n",
       "      <td>False</td>\n",
       "      <td>93.14</td>\n",
       "    </tr>\n",
       "    <tr>\n",
       "      <th>1</th>\n",
       "      <td>2013-01-01</td>\n",
       "      <td>1</td>\n",
       "      <td>BABY CARE</td>\n",
       "      <td>0.0</td>\n",
       "      <td>0</td>\n",
       "      <td>13</td>\n",
       "      <td>Holiday</td>\n",
       "      <td>National</td>\n",
       "      <td>Primer dia del ano</td>\n",
       "      <td>False</td>\n",
       "      <td>93.14</td>\n",
       "    </tr>\n",
       "    <tr>\n",
       "      <th>2</th>\n",
       "      <td>2013-01-01</td>\n",
       "      <td>1</td>\n",
       "      <td>BEAUTY</td>\n",
       "      <td>0.0</td>\n",
       "      <td>0</td>\n",
       "      <td>13</td>\n",
       "      <td>Holiday</td>\n",
       "      <td>National</td>\n",
       "      <td>Primer dia del ano</td>\n",
       "      <td>False</td>\n",
       "      <td>93.14</td>\n",
       "    </tr>\n",
       "    <tr>\n",
       "      <th>3</th>\n",
       "      <td>2013-01-01</td>\n",
       "      <td>1</td>\n",
       "      <td>BEVERAGES</td>\n",
       "      <td>0.0</td>\n",
       "      <td>0</td>\n",
       "      <td>13</td>\n",
       "      <td>Holiday</td>\n",
       "      <td>National</td>\n",
       "      <td>Primer dia del ano</td>\n",
       "      <td>False</td>\n",
       "      <td>93.14</td>\n",
       "    </tr>\n",
       "    <tr>\n",
       "      <th>4</th>\n",
       "      <td>2013-01-01</td>\n",
       "      <td>1</td>\n",
       "      <td>BOOKS</td>\n",
       "      <td>0.0</td>\n",
       "      <td>0</td>\n",
       "      <td>13</td>\n",
       "      <td>Holiday</td>\n",
       "      <td>National</td>\n",
       "      <td>Primer dia del ano</td>\n",
       "      <td>False</td>\n",
       "      <td>93.14</td>\n",
       "    </tr>\n",
       "  </tbody>\n",
       "</table>\n",
       "</div>"
      ],
      "text/plain": [
       "        Date  store_nbr      family  sales  onpromotion  cluster Holiday_type    locale         description transferred  dcoilwtico\n",
       "0 2013-01-01          1  AUTOMOTIVE    0.0            0       13      Holiday  National  Primer dia del ano       False       93.14\n",
       "1 2013-01-01          1   BABY CARE    0.0            0       13      Holiday  National  Primer dia del ano       False       93.14\n",
       "2 2013-01-01          1      BEAUTY    0.0            0       13      Holiday  National  Primer dia del ano       False       93.14\n",
       "3 2013-01-01          1   BEVERAGES    0.0            0       13      Holiday  National  Primer dia del ano       False       93.14\n",
       "4 2013-01-01          1       BOOKS    0.0            0       13      Holiday  National  Primer dia del ano       False       93.14"
      ]
     },
     "execution_count": 11,
     "metadata": {},
     "output_type": "execute_result"
    }
   ],
   "source": [
    "df.head()"
   ]
  },
  {
   "cell_type": "code",
   "execution_count": 12,
   "id": "e1c60f70",
   "metadata": {
    "execution": {
     "iopub.execute_input": "2022-08-09T08:03:11.693614Z",
     "iopub.status.busy": "2022-08-09T08:03:11.692788Z",
     "iopub.status.idle": "2022-08-09T08:03:11.956951Z",
     "shell.execute_reply": "2022-08-09T08:03:11.955772Z"
    },
    "papermill": {
     "duration": 0.277797,
     "end_time": "2022-08-09T08:03:11.959317",
     "exception": false,
     "start_time": "2022-08-09T08:03:11.681520",
     "status": "completed"
    },
    "tags": []
   },
   "outputs": [
    {
     "data": {
      "text/plain": [
       "(54, 33)"
      ]
     },
     "execution_count": 12,
     "metadata": {},
     "output_type": "execute_result"
    }
   ],
   "source": [
    "df[\"store_nbr\"].nunique(),df[\"family\"].nunique()"
   ]
  },
  {
   "cell_type": "code",
   "execution_count": 13,
   "id": "5033fe13",
   "metadata": {
    "execution": {
     "iopub.execute_input": "2022-08-09T08:03:11.981086Z",
     "iopub.status.busy": "2022-08-09T08:03:11.980601Z",
     "iopub.status.idle": "2022-08-09T08:03:13.782136Z",
     "shell.execute_reply": "2022-08-09T08:03:13.780734Z"
    },
    "papermill": {
     "duration": 1.816002,
     "end_time": "2022-08-09T08:03:13.785352",
     "exception": false,
     "start_time": "2022-08-09T08:03:11.969350",
     "status": "completed"
    },
    "tags": []
   },
   "outputs": [],
   "source": [
    "df.loc[:,\"store_nbr\"] = df[\"store_nbr\"].astype(\"category\")\n",
    "df.loc[:,\"family\"] = df[\"family\"].astype(\"category\")\n",
    "df.loc[:,\"onpromotion\"] = df[\"onpromotion\"].astype(\"int64\")\n",
    "#df.loc[:,\"city\"] = df[\"city\"].astype(\"category\")\n",
    "#df.loc[:,\"state\"] = df[\"state\"].astype(\"category\")\n",
    "#df.loc[:,\"type\"] = df[\"type\"].astype(\"category\")\n",
    "df.loc[:,\"Holiday_type\"] = df[\"Holiday_type\"].astype(\"category\")\n",
    "df.loc[:,\"locale\"] = df[\"locale\"].astype(\"category\")\n",
    "#df.loc[:,\"locale_name\"] = df[\"locale_name\"].astype(\"category\")\n",
    "df.loc[:,\"description\"] = df[\"description\"].astype(\"category\")\n",
    "df.loc[:,\"transferred\"] = df[\"transferred\"].astype(\"category\")"
   ]
  },
  {
   "cell_type": "code",
   "execution_count": 14,
   "id": "d679ea11",
   "metadata": {
    "execution": {
     "iopub.execute_input": "2022-08-09T08:03:13.808004Z",
     "iopub.status.busy": "2022-08-09T08:03:13.806756Z",
     "iopub.status.idle": "2022-08-09T08:03:14.323587Z",
     "shell.execute_reply": "2022-08-09T08:03:14.322165Z"
    },
    "papermill": {
     "duration": 0.531245,
     "end_time": "2022-08-09T08:03:14.326529",
     "exception": false,
     "start_time": "2022-08-09T08:03:13.795284",
     "status": "completed"
    },
    "tags": []
   },
   "outputs": [],
   "source": [
    "zero_index = df.groupby([\"store_nbr\",\"family\"]).sum()[df.groupby([\"store_nbr\",\"family\"]).sum()[\"sales\"]==0].index"
   ]
  },
  {
   "cell_type": "markdown",
   "id": "ab0591c3",
   "metadata": {
    "execution": {
     "iopub.status.busy": "2022-08-08T01:41:06.102058Z",
     "iopub.status.idle": "2022-08-08T01:41:06.103071Z",
     "shell.execute_reply": "2022-08-08T01:41:06.102819Z",
     "shell.execute_reply.started": "2022-08-08T01:41:06.102792Z"
    },
    "papermill": {
     "duration": 0.009506,
     "end_time": "2022-08-09T08:03:14.346000",
     "exception": false,
     "start_time": "2022-08-09T08:03:14.336494",
     "status": "completed"
    },
    "tags": []
   },
   "source": [
    "## Data Engineering"
   ]
  },
  {
   "cell_type": "code",
   "execution_count": 15,
   "id": "63def48e",
   "metadata": {
    "execution": {
     "iopub.execute_input": "2022-08-09T08:03:14.368283Z",
     "iopub.status.busy": "2022-08-09T08:03:14.367761Z",
     "iopub.status.idle": "2022-08-09T08:04:09.359125Z",
     "shell.execute_reply": "2022-08-09T08:04:09.357729Z"
    },
    "papermill": {
     "duration": 55.006453,
     "end_time": "2022-08-09T08:04:09.362226",
     "exception": false,
     "start_time": "2022-08-09T08:03:14.355773",
     "status": "completed"
    },
    "tags": []
   },
   "outputs": [],
   "source": [
    "df = create_date_features(df)\n",
    "df = lag_features(df, lags = [16,17,18,19,20,21,22,30,31,90,180,365])\n",
    "df = roll_mean_features(df,[16,17,18,30])\n",
    "\n",
    "alphas = [0.95,0.9, 0.8, 0.5]\n",
    "lags =[1, 7,30]\n",
    "df = ewm_features(df, alphas, lags)\n",
    "\n",
    "df['sales'] = np.log1p(df[\"sales\"].values)"
   ]
  },
  {
   "cell_type": "code",
   "execution_count": 16,
   "id": "c5133681",
   "metadata": {
    "execution": {
     "iopub.execute_input": "2022-08-09T08:04:09.384871Z",
     "iopub.status.busy": "2022-08-09T08:04:09.384385Z",
     "iopub.status.idle": "2022-08-09T08:04:12.055915Z",
     "shell.execute_reply": "2022-08-09T08:04:12.054766Z"
    },
    "papermill": {
     "duration": 2.686041,
     "end_time": "2022-08-09T08:04:12.058807",
     "exception": false,
     "start_time": "2022-08-09T08:04:09.372766",
     "status": "completed"
    },
    "tags": []
   },
   "outputs": [],
   "source": [
    "df_all[\"family\"]=df_all[\"family\"].astype(\"category\")\n",
    "df_all[\"store_nbr\"]=df_all[\"store_nbr\"].astype(\"category\")\n",
    "df_all[\"city\"]=df_all[\"city\"].astype(\"category\")\n",
    "df_all[\"state\"]=df_all[\"state\"].astype(\"category\")\n",
    "df_all[\"type\"]=df_all[\"type\"].astype(\"category\")"
   ]
  },
  {
   "cell_type": "markdown",
   "id": "514f230d",
   "metadata": {
    "papermill": {
     "duration": 0.010183,
     "end_time": "2022-08-09T08:04:12.079229",
     "exception": false,
     "start_time": "2022-08-09T08:04:12.069046",
     "status": "completed"
    },
    "tags": []
   },
   "source": [
    "## Train Test Split"
   ]
  },
  {
   "cell_type": "code",
   "execution_count": 17,
   "id": "849df3ca",
   "metadata": {
    "execution": {
     "iopub.execute_input": "2022-08-09T08:04:12.102101Z",
     "iopub.status.busy": "2022-08-09T08:04:12.101622Z",
     "iopub.status.idle": "2022-08-09T08:04:15.137386Z",
     "shell.execute_reply": "2022-08-09T08:04:15.136311Z"
    },
    "papermill": {
     "duration": 3.050973,
     "end_time": "2022-08-09T08:04:15.140310",
     "exception": false,
     "start_time": "2022-08-09T08:04:12.089337",
     "status": "completed"
    },
    "tags": []
   },
   "outputs": [],
   "source": [
    "df= df[df[\"Date\"]>\"2013-12-31\"]\n",
    "\n",
    "val = df[(df[\"Date\"]>\"2017-08-01\")&(df[\"Date\"]<=\"2017-08-15\")]\n",
    "train  = df[df[\"Date\"]<=\"2017-08-01\"]\n",
    "test = df[df[\"Date\"]>\"2017-08-15\"]\n",
    "\n",
    "col_X = [col for col in train.columns if col not in ['Date', 'sales','year']]\n",
    "\n",
    "y_train = train[\"sales\"]\n",
    "y_val = val[\"sales\"]\n",
    "X_train = train[col_X]\n",
    "X_val = val[col_X]\n",
    "X_test = test[col_X]\n",
    "y_test = test[\"sales\"]"
   ]
  },
  {
   "cell_type": "markdown",
   "id": "c300a289",
   "metadata": {
    "papermill": {
     "duration": 0.009526,
     "end_time": "2022-08-09T08:04:15.160047",
     "exception": false,
     "start_time": "2022-08-09T08:04:15.150521",
     "status": "completed"
    },
    "tags": []
   },
   "source": [
    "## Train Model"
   ]
  },
  {
   "cell_type": "code",
   "execution_count": 18,
   "id": "695b7b08",
   "metadata": {
    "execution": {
     "iopub.execute_input": "2022-08-09T08:04:15.181820Z",
     "iopub.status.busy": "2022-08-09T08:04:15.181336Z",
     "iopub.status.idle": "2022-08-09T08:04:15.188893Z",
     "shell.execute_reply": "2022-08-09T08:04:15.187791Z"
    },
    "papermill": {
     "duration": 0.021218,
     "end_time": "2022-08-09T08:04:15.191239",
     "exception": false,
     "start_time": "2022-08-09T08:04:15.170021",
     "status": "completed"
    },
    "tags": []
   },
   "outputs": [],
   "source": [
    "# LightGBM parameters\n",
    "lgb_params = {'metric': {'mse'},\n",
    "              'boosting_type' : 'gbdt',\n",
    "              'num_leaves': 8,\n",
    "              'learning_rate': 0.2,\n",
    "              #'feature_fraction': 0.8,\n",
    "              'max_depth': 7,\n",
    "              'verbose': 0,\n",
    "              'num_boost_round': 5000,\n",
    "              'early_stopping_rounds': 200,\n",
    "              'nthread': -1,\n",
    "             'force_col_wise':True}\n",
    "\n",
    "lgbtrain = lgb.Dataset(data=X_train, label=y_train, feature_name=col_X)\n",
    "lgbtest = lgb.Dataset(data=X_val, label=y_val, reference=lgbtrain, feature_name=col_X)\n",
    "\n",
    "#del Y_train, X_train, Y_test,X_test"
   ]
  },
  {
   "cell_type": "code",
   "execution_count": 19,
   "id": "469d74fb",
   "metadata": {
    "execution": {
     "iopub.execute_input": "2022-08-09T08:04:15.213244Z",
     "iopub.status.busy": "2022-08-09T08:04:15.212774Z",
     "iopub.status.idle": "2022-08-09T08:15:39.721049Z",
     "shell.execute_reply": "2022-08-09T08:15:39.719063Z"
    },
    "papermill": {
     "duration": 684.523465,
     "end_time": "2022-08-09T08:15:39.724738",
     "exception": false,
     "start_time": "2022-08-09T08:04:15.201273",
     "status": "completed"
    },
    "tags": []
   },
   "outputs": [
    {
     "name": "stdout",
     "output_type": "stream",
     "text": [
      "Training until validation scores don't improve for 200 rounds\n",
      "[100]\ttraining's l2: 0.177767\tvalid_1's l2: 0.168186\n",
      "[200]\ttraining's l2: 0.165642\tvalid_1's l2: 0.159789\n",
      "[300]\ttraining's l2: 0.158563\tvalid_1's l2: 0.155648\n",
      "[400]\ttraining's l2: 0.154282\tvalid_1's l2: 0.152916\n",
      "[500]\ttraining's l2: 0.150231\tvalid_1's l2: 0.149829\n",
      "[600]\ttraining's l2: 0.147861\tvalid_1's l2: 0.14796\n",
      "[700]\ttraining's l2: 0.145624\tvalid_1's l2: 0.146951\n",
      "[800]\ttraining's l2: 0.143827\tvalid_1's l2: 0.146022\n",
      "[900]\ttraining's l2: 0.142485\tvalid_1's l2: 0.144837\n",
      "[1000]\ttraining's l2: 0.141226\tvalid_1's l2: 0.144082\n",
      "[1100]\ttraining's l2: 0.140015\tvalid_1's l2: 0.143687\n",
      "[1200]\ttraining's l2: 0.13877\tvalid_1's l2: 0.143153\n",
      "[1300]\ttraining's l2: 0.137962\tvalid_1's l2: 0.142741\n",
      "[1400]\ttraining's l2: 0.136737\tvalid_1's l2: 0.142342\n",
      "[1500]\ttraining's l2: 0.135889\tvalid_1's l2: 0.142198\n",
      "[1600]\ttraining's l2: 0.135146\tvalid_1's l2: 0.141953\n",
      "[1700]\ttraining's l2: 0.134452\tvalid_1's l2: 0.141804\n",
      "[1800]\ttraining's l2: 0.133667\tvalid_1's l2: 0.141762\n",
      "[1900]\ttraining's l2: 0.132954\tvalid_1's l2: 0.141295\n",
      "[2000]\ttraining's l2: 0.132295\tvalid_1's l2: 0.141251\n",
      "[2100]\ttraining's l2: 0.131713\tvalid_1's l2: 0.141186\n",
      "[2200]\ttraining's l2: 0.131219\tvalid_1's l2: 0.141257\n",
      "[2300]\ttraining's l2: 0.130649\tvalid_1's l2: 0.141109\n",
      "[2400]\ttraining's l2: 0.130139\tvalid_1's l2: 0.14086\n",
      "[2500]\ttraining's l2: 0.129585\tvalid_1's l2: 0.140609\n",
      "[2600]\ttraining's l2: 0.129142\tvalid_1's l2: 0.140566\n",
      "[2700]\ttraining's l2: 0.128677\tvalid_1's l2: 0.140497\n",
      "[2800]\ttraining's l2: 0.128227\tvalid_1's l2: 0.14029\n",
      "[2900]\ttraining's l2: 0.127804\tvalid_1's l2: 0.140244\n",
      "[3000]\ttraining's l2: 0.127434\tvalid_1's l2: 0.14026\n",
      "[3100]\ttraining's l2: 0.127044\tvalid_1's l2: 0.140276\n",
      "[3200]\ttraining's l2: 0.126678\tvalid_1's l2: 0.140163\n",
      "[3300]\ttraining's l2: 0.126326\tvalid_1's l2: 0.140084\n",
      "[3400]\ttraining's l2: 0.125924\tvalid_1's l2: 0.140139\n",
      "[3500]\ttraining's l2: 0.12558\tvalid_1's l2: 0.140153\n",
      "Early stopping, best iteration is:\n",
      "[3353]\ttraining's l2: 0.126111\tvalid_1's l2: 0.140066\n"
     ]
    }
   ],
   "source": [
    "from sklearn.metrics import mean_absolute_error\n",
    "model = lgb.train(lgb_params, lgbtrain,\n",
    "                  valid_sets=[lgbtrain, lgbtest],\n",
    "                  num_boost_round=lgb_params['num_boost_round'],\n",
    "                  early_stopping_rounds=lgb_params['early_stopping_rounds'],\n",
    "                  #feval=mean_absolute_error,\n",
    "                  verbose_eval=100,\n",
    "                  )"
   ]
  },
  {
   "cell_type": "code",
   "execution_count": 20,
   "id": "fe9a1c6e",
   "metadata": {
    "execution": {
     "iopub.execute_input": "2022-08-09T08:15:39.752454Z",
     "iopub.status.busy": "2022-08-09T08:15:39.751933Z",
     "iopub.status.idle": "2022-08-09T08:15:41.489695Z",
     "shell.execute_reply": "2022-08-09T08:15:41.488519Z"
    },
    "papermill": {
     "duration": 1.755506,
     "end_time": "2022-08-09T08:15:41.493150",
     "exception": false,
     "start_time": "2022-08-09T08:15:39.737644",
     "status": "completed"
    },
    "tags": []
   },
   "outputs": [],
   "source": [
    "y_pred_val = model.predict(X_val, num_iteration=model.best_iteration)"
   ]
  },
  {
   "cell_type": "code",
   "execution_count": 21,
   "id": "b4239cf8",
   "metadata": {
    "execution": {
     "iopub.execute_input": "2022-08-09T08:15:41.521617Z",
     "iopub.status.busy": "2022-08-09T08:15:41.520783Z",
     "iopub.status.idle": "2022-08-09T08:15:41.526695Z",
     "shell.execute_reply": "2022-08-09T08:15:41.525445Z"
    },
    "papermill": {
     "duration": 0.022427,
     "end_time": "2022-08-09T08:15:41.529500",
     "exception": false,
     "start_time": "2022-08-09T08:15:41.507073",
     "status": "completed"
    },
    "tags": []
   },
   "outputs": [],
   "source": [
    "from sklearn.metrics import mean_squared_log_error"
   ]
  },
  {
   "cell_type": "code",
   "execution_count": 22,
   "id": "554225b7",
   "metadata": {
    "execution": {
     "iopub.execute_input": "2022-08-09T08:15:41.556650Z",
     "iopub.status.busy": "2022-08-09T08:15:41.555692Z",
     "iopub.status.idle": "2022-08-09T08:15:41.562194Z",
     "shell.execute_reply": "2022-08-09T08:15:41.560796Z"
    },
    "papermill": {
     "duration": 0.02272,
     "end_time": "2022-08-09T08:15:41.564766",
     "exception": false,
     "start_time": "2022-08-09T08:15:41.542046",
     "status": "completed"
    },
    "tags": []
   },
   "outputs": [],
   "source": [
    "y_pred_val[y_pred_val<0]=0"
   ]
  },
  {
   "cell_type": "code",
   "execution_count": 23,
   "id": "d6f3a979",
   "metadata": {
    "execution": {
     "iopub.execute_input": "2022-08-09T08:15:41.591716Z",
     "iopub.status.busy": "2022-08-09T08:15:41.590997Z",
     "iopub.status.idle": "2022-08-09T08:15:41.603178Z",
     "shell.execute_reply": "2022-08-09T08:15:41.601868Z"
    },
    "papermill": {
     "duration": 0.028933,
     "end_time": "2022-08-09T08:15:41.605956",
     "exception": false,
     "start_time": "2022-08-09T08:15:41.577023",
     "status": "completed"
    },
    "tags": []
   },
   "outputs": [
    {
     "data": {
      "text/plain": [
       "0.14000961270414392"
      ]
     },
     "execution_count": 23,
     "metadata": {},
     "output_type": "execute_result"
    }
   ],
   "source": [
    "mean_squared_log_error(np.expm1(y_val), np.expm1(y_pred_val))"
   ]
  },
  {
   "cell_type": "code",
   "execution_count": 24,
   "id": "e1dda280",
   "metadata": {
    "execution": {
     "iopub.execute_input": "2022-08-09T08:15:41.632960Z",
     "iopub.status.busy": "2022-08-09T08:15:41.632461Z",
     "iopub.status.idle": "2022-08-09T08:15:41.965308Z",
     "shell.execute_reply": "2022-08-09T08:15:41.963818Z"
    },
    "papermill": {
     "duration": 0.349788,
     "end_time": "2022-08-09T08:15:41.968318",
     "exception": false,
     "start_time": "2022-08-09T08:15:41.618530",
     "status": "completed"
    },
    "tags": []
   },
   "outputs": [
    {
     "data": {
      "text/plain": [
       "<matplotlib.collections.PathCollection at 0x7f6eae37a910>"
      ]
     },
     "execution_count": 24,
     "metadata": {},
     "output_type": "execute_result"
    },
    {
     "data": {
      "image/png": "[encoded data removed]",
      "text/plain": [
       "<Figure size 432x288 with 1 Axes>"
      ]
     },
     "metadata": {
      "needs_background": "light"
     },
     "output_type": "display_data"
    }
   ],
   "source": [
    "plt.scatter(np.expm1(y_val),np.expm1(y_pred_val))"
   ]
  },
  {
   "cell_type": "code",
   "execution_count": 25,
   "id": "c218ed06",
   "metadata": {
    "execution": {
     "iopub.execute_input": "2022-08-09T08:15:41.997540Z",
     "iopub.status.busy": "2022-08-09T08:15:41.997051Z",
     "iopub.status.idle": "2022-08-09T08:15:42.008623Z",
     "shell.execute_reply": "2022-08-09T08:15:42.007302Z"
    },
    "papermill": {
     "duration": 0.029374,
     "end_time": "2022-08-09T08:15:42.011576",
     "exception": false,
     "start_time": "2022-08-09T08:15:41.982202",
     "status": "completed"
    },
    "tags": []
   },
   "outputs": [
    {
     "data": {
      "text/plain": [
       "array([4183, 3395,  356,   54,   32,   49, 3276,   25,  754,  100,  621,\n",
       "        698,  245, 1030,  220,  176,  168,  216,  176,  488,  192,   85,\n",
       "        139,  187,  269,  157,  103,  102,   98,  306,  928,  699,   88,\n",
       "        368,  315,   62,  672,  367,   58, 1303,  531,  180], dtype=int32)"
      ]
     },
     "execution_count": 25,
     "metadata": {},
     "output_type": "execute_result"
    }
   ],
   "source": [
    "model.feature_importance()"
   ]
  },
  {
   "cell_type": "code",
   "execution_count": 26,
   "id": "d9a6c144",
   "metadata": {
    "execution": {
     "iopub.execute_input": "2022-08-09T08:15:42.041375Z",
     "iopub.status.busy": "2022-08-09T08:15:42.040588Z",
     "iopub.status.idle": "2022-08-09T08:15:42.048061Z",
     "shell.execute_reply": "2022-08-09T08:15:42.046950Z"
    },
    "papermill": {
     "duration": 0.025089,
     "end_time": "2022-08-09T08:15:42.050893",
     "exception": false,
     "start_time": "2022-08-09T08:15:42.025804",
     "status": "completed"
    },
    "tags": []
   },
   "outputs": [
    {
     "data": {
      "text/plain": [
       "['store_nbr',\n",
       " 'family',\n",
       " 'onpromotion',\n",
       " 'cluster',\n",
       " 'Holiday_type',\n",
       " 'locale',\n",
       " 'description',\n",
       " 'transferred',\n",
       " 'dcoilwtico',\n",
       " 'month',\n",
       " 'day_of_month',\n",
       " 'day_of_year',\n",
       " 'week_of_year',\n",
       " 'day_of_week',\n",
       " 'sales_lag_16',\n",
       " 'sales_lag_17',\n",
       " 'sales_lag_18',\n",
       " 'sales_lag_19',\n",
       " 'sales_lag_20',\n",
       " 'sales_lag_21',\n",
       " 'sales_lag_22',\n",
       " 'sales_lag_30',\n",
       " 'sales_lag_31',\n",
       " 'sales_lag_90',\n",
       " 'sales_lag_180',\n",
       " 'sales_lag_365',\n",
       " 'sales_roll_mean_16',\n",
       " 'sales_roll_mean_17',\n",
       " 'sales_roll_mean_18',\n",
       " 'sales_roll_mean_30',\n",
       " 'sales_ewm_alpha_095_lag_1',\n",
       " 'sales_ewm_alpha_095_lag_7',\n",
       " 'sales_ewm_alpha_095_lag_30',\n",
       " 'sales_ewm_alpha_09_lag_1',\n",
       " 'sales_ewm_alpha_09_lag_7',\n",
       " 'sales_ewm_alpha_09_lag_30',\n",
       " 'sales_ewm_alpha_08_lag_1',\n",
       " 'sales_ewm_alpha_08_lag_7',\n",
       " 'sales_ewm_alpha_08_lag_30',\n",
       " 'sales_ewm_alpha_05_lag_1',\n",
       " 'sales_ewm_alpha_05_lag_7',\n",
       " 'sales_ewm_alpha_05_lag_30']"
      ]
     },
     "execution_count": 26,
     "metadata": {},
     "output_type": "execute_result"
    }
   ],
   "source": [
    "model.feature_name()"
   ]
  },
  {
   "cell_type": "markdown",
   "id": "e8352595",
   "metadata": {
    "execution": {
     "iopub.execute_input": "2022-08-09T07:22:22.185343Z",
     "iopub.status.busy": "2022-08-09T07:22:22.184835Z",
     "iopub.status.idle": "2022-08-09T07:22:22.190529Z",
     "shell.execute_reply": "2022-08-09T07:22:22.189396Z",
     "shell.execute_reply.started": "2022-08-09T07:22:22.185295Z"
    },
    "papermill": {
     "duration": 0.012449,
     "end_time": "2022-08-09T08:15:42.076910",
     "exception": false,
     "start_time": "2022-08-09T08:15:42.064461",
     "status": "completed"
    },
    "tags": []
   },
   "source": [
    "## Submission"
   ]
  },
  {
   "cell_type": "code",
   "execution_count": 27,
   "id": "adda9861",
   "metadata": {
    "execution": {
     "iopub.execute_input": "2022-08-09T08:15:42.106042Z",
     "iopub.status.busy": "2022-08-09T08:15:42.105328Z",
     "iopub.status.idle": "2022-08-09T08:15:43.972765Z",
     "shell.execute_reply": "2022-08-09T08:15:43.971544Z"
    },
    "papermill": {
     "duration": 1.886121,
     "end_time": "2022-08-09T08:15:43.975942",
     "exception": false,
     "start_time": "2022-08-09T08:15:42.089821",
     "status": "completed"
    },
    "tags": []
   },
   "outputs": [],
   "source": [
    "submission = pd.read_csv(\"../input/store-sales-time-series-forecasting/sample_submission.csv\")\n",
    "y_test = model.predict(X_test, num_iteration=model.best_iteration)"
   ]
  },
  {
   "cell_type": "code",
   "execution_count": 28,
   "id": "a187a8e2",
   "metadata": {
    "execution": {
     "iopub.execute_input": "2022-08-09T08:15:44.006155Z",
     "iopub.status.busy": "2022-08-09T08:15:44.005020Z",
     "iopub.status.idle": "2022-08-09T08:15:44.011114Z",
     "shell.execute_reply": "2022-08-09T08:15:44.009903Z"
    },
    "papermill": {
     "duration": 0.023484,
     "end_time": "2022-08-09T08:15:44.013961",
     "exception": false,
     "start_time": "2022-08-09T08:15:43.990477",
     "status": "completed"
    },
    "tags": []
   },
   "outputs": [],
   "source": [
    "y_test[y_test<0]=0"
   ]
  },
  {
   "cell_type": "code",
   "execution_count": 29,
   "id": "f18c40eb",
   "metadata": {
    "execution": {
     "iopub.execute_input": "2022-08-09T08:15:44.043624Z",
     "iopub.status.busy": "2022-08-09T08:15:44.042800Z",
     "iopub.status.idle": "2022-08-09T08:15:44.048984Z",
     "shell.execute_reply": "2022-08-09T08:15:44.048015Z"
    },
    "papermill": {
     "duration": 0.023287,
     "end_time": "2022-08-09T08:15:44.051235",
     "exception": false,
     "start_time": "2022-08-09T08:15:44.027948",
     "status": "completed"
    },
    "tags": []
   },
   "outputs": [],
   "source": [
    "submission[\"sales\"] = np.expm1(y_test)"
   ]
  },
  {
   "cell_type": "code",
   "execution_count": 30,
   "id": "5b2d3129",
   "metadata": {
    "execution": {
     "iopub.execute_input": "2022-08-09T08:15:44.079754Z",
     "iopub.status.busy": "2022-08-09T08:15:44.078968Z",
     "iopub.status.idle": "2022-08-09T08:15:44.153589Z",
     "shell.execute_reply": "2022-08-09T08:15:44.152191Z"
    },
    "papermill": {
     "duration": 0.092363,
     "end_time": "2022-08-09T08:15:44.156656",
     "exception": false,
     "start_time": "2022-08-09T08:15:44.064293",
     "status": "completed"
    },
    "tags": []
   },
   "outputs": [],
   "source": [
    "submission.to_csv(\"submission.csv\",index=False)"
   ]
  },
  {
   "cell_type": "code",
   "execution_count": 31,
   "id": "8d7cc8ca",
   "metadata": {
    "execution": {
     "iopub.execute_input": "2022-08-09T08:15:44.186075Z",
     "iopub.status.busy": "2022-08-09T08:15:44.185582Z",
     "iopub.status.idle": "2022-08-09T08:15:44.199168Z",
     "shell.execute_reply": "2022-08-09T08:15:44.198225Z"
    },
    "papermill": {
     "duration": 0.031384,
     "end_time": "2022-08-09T08:15:44.201790",
     "exception": false,
     "start_time": "2022-08-09T08:15:44.170406",
     "status": "completed"
    },
    "tags": []
   },
   "outputs": [
    {
     "data": {
      "text/html": [
       "<div>\n",
       "<style scoped>\n",
       "    .dataframe tbody tr th:only-of-type {\n",
       "        vertical-align: middle;\n",
       "    }\n",
       "\n",
       "    .dataframe tbody tr th {\n",
       "        vertical-align: top;\n",
       "    }\n",
       "\n",
       "    .dataframe thead th {\n",
       "        text-align: right;\n",
       "    }\n",
       "</style>\n",
       "<table border=\"1\" class=\"dataframe\">\n",
       "  <thead>\n",
       "    <tr style=\"text-align: right;\">\n",
       "      <th></th>\n",
       "      <th>id</th>\n",
       "      <th>sales</th>\n",
       "    </tr>\n",
       "  </thead>\n",
       "  <tbody>\n",
       "    <tr>\n",
       "      <th>0</th>\n",
       "      <td>3000888</td>\n",
       "      <td>4.139020</td>\n",
       "    </tr>\n",
       "    <tr>\n",
       "      <th>1</th>\n",
       "      <td>3000889</td>\n",
       "      <td>0.005699</td>\n",
       "    </tr>\n",
       "    <tr>\n",
       "      <th>2</th>\n",
       "      <td>3000890</td>\n",
       "      <td>5.741029</td>\n",
       "    </tr>\n",
       "    <tr>\n",
       "      <th>3</th>\n",
       "      <td>3000891</td>\n",
       "      <td>2495.947338</td>\n",
       "    </tr>\n",
       "    <tr>\n",
       "      <th>4</th>\n",
       "      <td>3000892</td>\n",
       "      <td>0.059670</td>\n",
       "    </tr>\n",
       "    <tr>\n",
       "      <th>...</th>\n",
       "      <td>...</td>\n",
       "      <td>...</td>\n",
       "    </tr>\n",
       "    <tr>\n",
       "      <th>28507</th>\n",
       "      <td>3029395</td>\n",
       "      <td>392.123354</td>\n",
       "    </tr>\n",
       "    <tr>\n",
       "      <th>28508</th>\n",
       "      <td>3029396</td>\n",
       "      <td>128.706923</td>\n",
       "    </tr>\n",
       "    <tr>\n",
       "      <th>28509</th>\n",
       "      <td>3029397</td>\n",
       "      <td>1687.209387</td>\n",
       "    </tr>\n",
       "    <tr>\n",
       "      <th>28510</th>\n",
       "      <td>3029398</td>\n",
       "      <td>148.359167</td>\n",
       "    </tr>\n",
       "    <tr>\n",
       "      <th>28511</th>\n",
       "      <td>3029399</td>\n",
       "      <td>16.749191</td>\n",
       "    </tr>\n",
       "  </tbody>\n",
       "</table>\n",
       "<p>28512 rows × 2 columns</p>\n",
       "</div>"
      ],
      "text/plain": [
       "            id        sales\n",
       "0      3000888     4.139020\n",
       "1      3000889     0.005699\n",
       "2      3000890     5.741029\n",
       "3      3000891  2495.947338\n",
       "4      3000892     0.059670\n",
       "...        ...          ...\n",
       "28507  3029395   392.123354\n",
       "28508  3029396   128.706923\n",
       "28509  3029397  1687.209387\n",
       "28510  3029398   148.359167\n",
       "28511  3029399    16.749191\n",
       "\n",
       "[28512 rows x 2 columns]"
      ]
     },
     "execution_count": 31,
     "metadata": {},
     "output_type": "execute_result"
    }
   ],
   "source": [
    "submission"
   ]
  },
  {
   "cell_type": "code",
   "execution_count": null,
   "id": "ef0290a8",
   "metadata": {
    "papermill": {
     "duration": 0.013066,
     "end_time": "2022-08-09T08:15:44.228152",
     "exception": false,
     "start_time": "2022-08-09T08:15:44.215086",
     "status": "completed"
    },
    "tags": []
   },
   "outputs": [],
   "source": []
  }
 ],
 "metadata": {
  "kernelspec": {
   "display_name": "Python 3",
   "language": "python",
   "name": "python3"
  },
  "language_info": {
   "codemirror_mode": {
    "name": "ipython",
    "version": 3
   },
   "file_extension": ".py",
   "mimetype": "text/x-python",
   "name": "python",
   "nbconvert_exporter": "python",
   "pygments_lexer": "ipython3",
   "version": "3.7.12"
  },
  "papermill": {
   "default_parameters": {},
   "duration": 819.258906,
   "end_time": "2022-08-09T08:15:45.470301",
   "environment_variables": {},
   "exception": null,
   "input_path": "__notebook__.ipynb",
   "output_path": "__notebook__.ipynb",
   "parameters": {},
   "start_time": "2022-08-09T08:02:06.211395",
   "version": "2.3.4"
  }
 },
 "nbformat": 4,
 "nbformat_minor": 5
}
