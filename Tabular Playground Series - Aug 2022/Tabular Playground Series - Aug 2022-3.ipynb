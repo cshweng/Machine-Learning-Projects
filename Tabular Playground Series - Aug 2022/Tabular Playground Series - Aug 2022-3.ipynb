{
 "cells": [
  {
   "cell_type": "code",
   "execution_count": 1,
   "id": "36f09da5-82be-4d08-a38e-0c6415392cfb",
   "metadata": {},
   "outputs": [],
   "source": [
    "import pandas as pd\n",
    "import numpy as np\n",
    "import seaborn as sns\n",
    "import matplotlib.pyplot as plt\n",
    "\n",
    "pd.set_option('display.max_rows', 40)\n",
    "pd.set_option('display.max_columns', 40)\n",
    "#pd.set_option('display.width', 1000)\n",
    "df = pd.read_csv(\"train.csv\",index_col=0)\n",
    "from sklearn.experimental import enable_iterative_imputer\n",
    "from sklearn.impute import IterativeImputer\n",
    "imputer = IterativeImputer()"
   ]
  },
  {
   "cell_type": "code",
   "execution_count": 7,
   "id": "09c8f016-cd1d-414c-8a8c-648ce598a0c7",
   "metadata": {},
   "outputs": [],
   "source": [
    "cat = [\"product_code\",\"attribute_0\",\"attribute_1\"]\n",
    "non_cat = [k for k in df if k not in cat]"
   ]
  },
  {
   "cell_type": "code",
   "execution_count": 8,
   "id": "627bd323-48c9-453b-8e49-d3b7d9e2f1c4",
   "metadata": {},
   "outputs": [],
   "source": [
    "df = imputer.fit_transform(df[non_cat])"
   ]
  },
  {
   "cell_type": "code",
   "execution_count": 11,
   "id": "7de576e1-344c-4274-8b88-42a171e9a60d",
   "metadata": {},
   "outputs": [],
   "source": [
    "pd.DataFrame(df).to_csv(\"train_imp.csv\")"
   ]
  },
  {
   "cell_type": "code",
   "execution_count": 13,
   "id": "2e7408db-5167-45f8-bce6-42743a0a0dcb",
   "metadata": {},
   "outputs": [],
   "source": [
    "df = pd.read_csv(\"test.csv\",index_col=0)\n",
    "cat = [\"product_code\",\"attribute_0\",\"attribute_1\"]\n",
    "non_cat = [k for k in df if k not in cat]\n",
    "df = imputer.fit_transform(df[non_cat])\n",
    "pd.DataFrame(df).to_csv(\"test_imp.csv\")"
   ]
  },
  {
   "cell_type": "code",
   "execution_count": null,
   "id": "9ae17b6e-9048-47bf-bf97-fc77df480b0f",
   "metadata": {},
   "outputs": [],
   "source": []
  }
 ],
 "metadata": {
  "kernelspec": {
   "display_name": "Python 3 (ipykernel)",
   "language": "python",
   "name": "python3"
  },
  "language_info": {
   "codemirror_mode": {
    "name": "ipython",
    "version": 3
   },
   "file_extension": ".py",
   "mimetype": "text/x-python",
   "name": "python",
   "nbconvert_exporter": "python",
   "pygments_lexer": "ipython3",
   "version": "3.9.12"
  }
 },
 "nbformat": 4,
 "nbformat_minor": 5
}
