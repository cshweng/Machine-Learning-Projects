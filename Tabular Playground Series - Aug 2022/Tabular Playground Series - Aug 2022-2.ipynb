{
 "cells": [
  {
   "cell_type": "code",
   "execution_count": 53,
   "id": "c2756e0c-d6d7-44a0-92ae-a75ed761a105",
   "metadata": {},
   "outputs": [],
   "source": [
    "import pandas as pd\n",
    "import numpy as np\n",
    "import seaborn as sns\n",
    "import matplotlib.pyplot as plt\n",
    "\n",
    "pd.set_option('display.max_rows', 40)\n",
    "pd.set_option('display.max_columns', 40)\n",
    "#pd.set_option('display.width', 1000)"
   ]
  },
  {
   "cell_type": "code",
   "execution_count": 54,
   "id": "70679eb1-83d0-4ec0-b988-c64e6a272ef9",
   "metadata": {},
   "outputs": [
    {
     "data": {
      "text/html": [
       "<div>\n",
       "<style scoped>\n",
       "    .dataframe tbody tr th:only-of-type {\n",
       "        vertical-align: middle;\n",
       "    }\n",
       "\n",
       "    .dataframe tbody tr th {\n",
       "        vertical-align: top;\n",
       "    }\n",
       "\n",
       "    .dataframe thead th {\n",
       "        text-align: right;\n",
       "    }\n",
       "</style>\n",
       "<table border=\"1\" class=\"dataframe\">\n",
       "  <thead>\n",
       "    <tr style=\"text-align: right;\">\n",
       "      <th></th>\n",
       "      <th>product_code</th>\n",
       "      <th>loading</th>\n",
       "      <th>attribute_0</th>\n",
       "      <th>attribute_1</th>\n",
       "      <th>attribute_2</th>\n",
       "      <th>attribute_3</th>\n",
       "      <th>measurement_0</th>\n",
       "      <th>measurement_1</th>\n",
       "      <th>measurement_2</th>\n",
       "      <th>measurement_3</th>\n",
       "      <th>measurement_4</th>\n",
       "      <th>measurement_5</th>\n",
       "      <th>measurement_6</th>\n",
       "      <th>measurement_7</th>\n",
       "      <th>measurement_8</th>\n",
       "      <th>measurement_9</th>\n",
       "      <th>measurement_10</th>\n",
       "      <th>measurement_11</th>\n",
       "      <th>measurement_12</th>\n",
       "      <th>measurement_13</th>\n",
       "      <th>measurement_14</th>\n",
       "      <th>measurement_15</th>\n",
       "      <th>measurement_16</th>\n",
       "      <th>measurement_17</th>\n",
       "      <th>failure</th>\n",
       "      <th>m_3_missing</th>\n",
       "      <th>m_4_missing</th>\n",
       "      <th>m_5_missing</th>\n",
       "      <th>m_9_missing</th>\n",
       "      <th>area</th>\n",
       "      <th>plus01</th>\n",
       "      <th>plus02</th>\n",
       "      <th>plus03</th>\n",
       "      <th>mean_mean35681011</th>\n",
       "      <th>mean_std35681011</th>\n",
       "      <th>mean_mean49912</th>\n",
       "      <th>mean_std47912</th>\n",
       "      <th>material</th>\n",
       "    </tr>\n",
       "    <tr>\n",
       "      <th>id</th>\n",
       "      <th></th>\n",
       "      <th></th>\n",
       "      <th></th>\n",
       "      <th></th>\n",
       "      <th></th>\n",
       "      <th></th>\n",
       "      <th></th>\n",
       "      <th></th>\n",
       "      <th></th>\n",
       "      <th></th>\n",
       "      <th></th>\n",
       "      <th></th>\n",
       "      <th></th>\n",
       "      <th></th>\n",
       "      <th></th>\n",
       "      <th></th>\n",
       "      <th></th>\n",
       "      <th></th>\n",
       "      <th></th>\n",
       "      <th></th>\n",
       "      <th></th>\n",
       "      <th></th>\n",
       "      <th></th>\n",
       "      <th></th>\n",
       "      <th></th>\n",
       "      <th></th>\n",
       "      <th></th>\n",
       "      <th></th>\n",
       "      <th></th>\n",
       "      <th></th>\n",
       "      <th></th>\n",
       "      <th></th>\n",
       "      <th></th>\n",
       "      <th></th>\n",
       "      <th></th>\n",
       "      <th></th>\n",
       "      <th></th>\n",
       "      <th></th>\n",
       "    </tr>\n",
       "  </thead>\n",
       "  <tbody>\n",
       "    <tr>\n",
       "      <th>0</th>\n",
       "      <td>A</td>\n",
       "      <td>80.10</td>\n",
       "      <td>material_7</td>\n",
       "      <td>material_8</td>\n",
       "      <td>9</td>\n",
       "      <td>5</td>\n",
       "      <td>7</td>\n",
       "      <td>8</td>\n",
       "      <td>4</td>\n",
       "      <td>18.040</td>\n",
       "      <td>12.518</td>\n",
       "      <td>15.748</td>\n",
       "      <td>19.292</td>\n",
       "      <td>11.739</td>\n",
       "      <td>20.155</td>\n",
       "      <td>10.672</td>\n",
       "      <td>15.859</td>\n",
       "      <td>17.594</td>\n",
       "      <td>15.193</td>\n",
       "      <td>15.029</td>\n",
       "      <td>NaN</td>\n",
       "      <td>13.034</td>\n",
       "      <td>14.684</td>\n",
       "      <td>764.100</td>\n",
       "      <td>0</td>\n",
       "      <td>False</td>\n",
       "      <td>False</td>\n",
       "      <td>False</td>\n",
       "      <td>False</td>\n",
       "      <td>45</td>\n",
       "      <td>12</td>\n",
       "      <td>11</td>\n",
       "      <td>19</td>\n",
       "      <td>16.603889</td>\n",
       "      <td>2.320475</td>\n",
       "      <td>12.530500</td>\n",
       "      <td>1.929556</td>\n",
       "      <td>1.0</td>\n",
       "    </tr>\n",
       "    <tr>\n",
       "      <th>1</th>\n",
       "      <td>A</td>\n",
       "      <td>84.89</td>\n",
       "      <td>material_7</td>\n",
       "      <td>material_8</td>\n",
       "      <td>9</td>\n",
       "      <td>5</td>\n",
       "      <td>14</td>\n",
       "      <td>3</td>\n",
       "      <td>3</td>\n",
       "      <td>18.213</td>\n",
       "      <td>11.540</td>\n",
       "      <td>17.717</td>\n",
       "      <td>17.893</td>\n",
       "      <td>12.748</td>\n",
       "      <td>17.889</td>\n",
       "      <td>12.448</td>\n",
       "      <td>17.947</td>\n",
       "      <td>17.915</td>\n",
       "      <td>11.755</td>\n",
       "      <td>14.732</td>\n",
       "      <td>15.425</td>\n",
       "      <td>14.395</td>\n",
       "      <td>15.631</td>\n",
       "      <td>682.057</td>\n",
       "      <td>0</td>\n",
       "      <td>False</td>\n",
       "      <td>False</td>\n",
       "      <td>False</td>\n",
       "      <td>False</td>\n",
       "      <td>45</td>\n",
       "      <td>6</td>\n",
       "      <td>17</td>\n",
       "      <td>20</td>\n",
       "      <td>16.775700</td>\n",
       "      <td>1.530751</td>\n",
       "      <td>12.122750</td>\n",
       "      <td>0.569082</td>\n",
       "      <td>1.0</td>\n",
       "    </tr>\n",
       "    <tr>\n",
       "      <th>2</th>\n",
       "      <td>A</td>\n",
       "      <td>82.43</td>\n",
       "      <td>material_7</td>\n",
       "      <td>material_8</td>\n",
       "      <td>9</td>\n",
       "      <td>5</td>\n",
       "      <td>12</td>\n",
       "      <td>1</td>\n",
       "      <td>5</td>\n",
       "      <td>18.057</td>\n",
       "      <td>11.652</td>\n",
       "      <td>16.738</td>\n",
       "      <td>18.240</td>\n",
       "      <td>12.718</td>\n",
       "      <td>18.288</td>\n",
       "      <td>12.715</td>\n",
       "      <td>15.607</td>\n",
       "      <td>NaN</td>\n",
       "      <td>13.798</td>\n",
       "      <td>16.711</td>\n",
       "      <td>18.631</td>\n",
       "      <td>14.094</td>\n",
       "      <td>17.946</td>\n",
       "      <td>663.376</td>\n",
       "      <td>0</td>\n",
       "      <td>False</td>\n",
       "      <td>False</td>\n",
       "      <td>False</td>\n",
       "      <td>False</td>\n",
       "      <td>45</td>\n",
       "      <td>6</td>\n",
       "      <td>17</td>\n",
       "      <td>18</td>\n",
       "      <td>17.145778</td>\n",
       "      <td>1.508934</td>\n",
       "      <td>12.720750</td>\n",
       "      <td>0.876115</td>\n",
       "      <td>1.0</td>\n",
       "    </tr>\n",
       "    <tr>\n",
       "      <th>3</th>\n",
       "      <td>A</td>\n",
       "      <td>101.07</td>\n",
       "      <td>material_7</td>\n",
       "      <td>material_8</td>\n",
       "      <td>9</td>\n",
       "      <td>5</td>\n",
       "      <td>13</td>\n",
       "      <td>2</td>\n",
       "      <td>6</td>\n",
       "      <td>17.295</td>\n",
       "      <td>11.188</td>\n",
       "      <td>18.576</td>\n",
       "      <td>18.339</td>\n",
       "      <td>12.583</td>\n",
       "      <td>19.060</td>\n",
       "      <td>12.471</td>\n",
       "      <td>16.346</td>\n",
       "      <td>18.377</td>\n",
       "      <td>10.020</td>\n",
       "      <td>15.250</td>\n",
       "      <td>15.562</td>\n",
       "      <td>16.154</td>\n",
       "      <td>17.172</td>\n",
       "      <td>826.282</td>\n",
       "      <td>0</td>\n",
       "      <td>False</td>\n",
       "      <td>False</td>\n",
       "      <td>False</td>\n",
       "      <td>False</td>\n",
       "      <td>45</td>\n",
       "      <td>8</td>\n",
       "      <td>19</td>\n",
       "      <td>21</td>\n",
       "      <td>17.213100</td>\n",
       "      <td>1.347949</td>\n",
       "      <td>11.565500</td>\n",
       "      <td>1.209175</td>\n",
       "      <td>1.0</td>\n",
       "    </tr>\n",
       "    <tr>\n",
       "      <th>4</th>\n",
       "      <td>A</td>\n",
       "      <td>188.06</td>\n",
       "      <td>material_7</td>\n",
       "      <td>material_8</td>\n",
       "      <td>9</td>\n",
       "      <td>5</td>\n",
       "      <td>9</td>\n",
       "      <td>2</td>\n",
       "      <td>8</td>\n",
       "      <td>19.346</td>\n",
       "      <td>12.950</td>\n",
       "      <td>16.990</td>\n",
       "      <td>15.746</td>\n",
       "      <td>11.306</td>\n",
       "      <td>18.093</td>\n",
       "      <td>10.337</td>\n",
       "      <td>17.082</td>\n",
       "      <td>19.932</td>\n",
       "      <td>12.428</td>\n",
       "      <td>16.182</td>\n",
       "      <td>12.760</td>\n",
       "      <td>13.153</td>\n",
       "      <td>16.412</td>\n",
       "      <td>579.885</td>\n",
       "      <td>0</td>\n",
       "      <td>False</td>\n",
       "      <td>False</td>\n",
       "      <td>False</td>\n",
       "      <td>False</td>\n",
       "      <td>45</td>\n",
       "      <td>10</td>\n",
       "      <td>17</td>\n",
       "      <td>19</td>\n",
       "      <td>16.569600</td>\n",
       "      <td>2.328895</td>\n",
       "      <td>11.755250</td>\n",
       "      <td>1.168087</td>\n",
       "      <td>1.0</td>\n",
       "    </tr>\n",
       "    <tr>\n",
       "      <th>...</th>\n",
       "      <td>...</td>\n",
       "      <td>...</td>\n",
       "      <td>...</td>\n",
       "      <td>...</td>\n",
       "      <td>...</td>\n",
       "      <td>...</td>\n",
       "      <td>...</td>\n",
       "      <td>...</td>\n",
       "      <td>...</td>\n",
       "      <td>...</td>\n",
       "      <td>...</td>\n",
       "      <td>...</td>\n",
       "      <td>...</td>\n",
       "      <td>...</td>\n",
       "      <td>...</td>\n",
       "      <td>...</td>\n",
       "      <td>...</td>\n",
       "      <td>...</td>\n",
       "      <td>...</td>\n",
       "      <td>...</td>\n",
       "      <td>...</td>\n",
       "      <td>...</td>\n",
       "      <td>...</td>\n",
       "      <td>...</td>\n",
       "      <td>...</td>\n",
       "      <td>...</td>\n",
       "      <td>...</td>\n",
       "      <td>...</td>\n",
       "      <td>...</td>\n",
       "      <td>...</td>\n",
       "      <td>...</td>\n",
       "      <td>...</td>\n",
       "      <td>...</td>\n",
       "      <td>...</td>\n",
       "      <td>...</td>\n",
       "      <td>...</td>\n",
       "      <td>...</td>\n",
       "      <td>...</td>\n",
       "    </tr>\n",
       "    <tr>\n",
       "      <th>26565</th>\n",
       "      <td>E</td>\n",
       "      <td>158.95</td>\n",
       "      <td>material_7</td>\n",
       "      <td>material_6</td>\n",
       "      <td>6</td>\n",
       "      <td>9</td>\n",
       "      <td>6</td>\n",
       "      <td>16</td>\n",
       "      <td>4</td>\n",
       "      <td>16.301</td>\n",
       "      <td>13.259</td>\n",
       "      <td>18.068</td>\n",
       "      <td>15.505</td>\n",
       "      <td>10.865</td>\n",
       "      <td>19.354</td>\n",
       "      <td>NaN</td>\n",
       "      <td>12.177</td>\n",
       "      <td>17.942</td>\n",
       "      <td>10.112</td>\n",
       "      <td>15.795</td>\n",
       "      <td>18.572</td>\n",
       "      <td>16.144</td>\n",
       "      <td>NaN</td>\n",
       "      <td>729.131</td>\n",
       "      <td>0</td>\n",
       "      <td>False</td>\n",
       "      <td>False</td>\n",
       "      <td>False</td>\n",
       "      <td>True</td>\n",
       "      <td>54</td>\n",
       "      <td>20</td>\n",
       "      <td>10</td>\n",
       "      <td>26</td>\n",
       "      <td>16.650889</td>\n",
       "      <td>2.153871</td>\n",
       "      <td>11.412000</td>\n",
       "      <td>1.643262</td>\n",
       "      <td>0.0</td>\n",
       "    </tr>\n",
       "    <tr>\n",
       "      <th>26566</th>\n",
       "      <td>E</td>\n",
       "      <td>146.02</td>\n",
       "      <td>material_7</td>\n",
       "      <td>material_6</td>\n",
       "      <td>6</td>\n",
       "      <td>9</td>\n",
       "      <td>10</td>\n",
       "      <td>12</td>\n",
       "      <td>8</td>\n",
       "      <td>17.543</td>\n",
       "      <td>NaN</td>\n",
       "      <td>17.984</td>\n",
       "      <td>19.078</td>\n",
       "      <td>11.139</td>\n",
       "      <td>19.563</td>\n",
       "      <td>11.242</td>\n",
       "      <td>14.179</td>\n",
       "      <td>20.564</td>\n",
       "      <td>10.234</td>\n",
       "      <td>14.450</td>\n",
       "      <td>14.322</td>\n",
       "      <td>13.146</td>\n",
       "      <td>16.471</td>\n",
       "      <td>853.924</td>\n",
       "      <td>0</td>\n",
       "      <td>False</td>\n",
       "      <td>True</td>\n",
       "      <td>False</td>\n",
       "      <td>False</td>\n",
       "      <td>54</td>\n",
       "      <td>20</td>\n",
       "      <td>18</td>\n",
       "      <td>30</td>\n",
       "      <td>16.730000</td>\n",
       "      <td>2.601039</td>\n",
       "      <td>10.871667</td>\n",
       "      <td>0.554632</td>\n",
       "      <td>0.0</td>\n",
       "    </tr>\n",
       "    <tr>\n",
       "      <th>26567</th>\n",
       "      <td>E</td>\n",
       "      <td>115.62</td>\n",
       "      <td>material_7</td>\n",
       "      <td>material_6</td>\n",
       "      <td>6</td>\n",
       "      <td>9</td>\n",
       "      <td>1</td>\n",
       "      <td>10</td>\n",
       "      <td>1</td>\n",
       "      <td>15.670</td>\n",
       "      <td>11.535</td>\n",
       "      <td>16.778</td>\n",
       "      <td>18.385</td>\n",
       "      <td>11.630</td>\n",
       "      <td>19.279</td>\n",
       "      <td>11.407</td>\n",
       "      <td>16.437</td>\n",
       "      <td>17.476</td>\n",
       "      <td>8.668</td>\n",
       "      <td>15.069</td>\n",
       "      <td>16.599</td>\n",
       "      <td>15.590</td>\n",
       "      <td>14.065</td>\n",
       "      <td>750.364</td>\n",
       "      <td>0</td>\n",
       "      <td>False</td>\n",
       "      <td>False</td>\n",
       "      <td>False</td>\n",
       "      <td>False</td>\n",
       "      <td>54</td>\n",
       "      <td>11</td>\n",
       "      <td>2</td>\n",
       "      <td>12</td>\n",
       "      <td>16.534800</td>\n",
       "      <td>1.556405</td>\n",
       "      <td>10.810000</td>\n",
       "      <td>1.430920</td>\n",
       "      <td>0.0</td>\n",
       "    </tr>\n",
       "    <tr>\n",
       "      <th>26568</th>\n",
       "      <td>E</td>\n",
       "      <td>106.38</td>\n",
       "      <td>material_7</td>\n",
       "      <td>material_6</td>\n",
       "      <td>6</td>\n",
       "      <td>9</td>\n",
       "      <td>2</td>\n",
       "      <td>9</td>\n",
       "      <td>4</td>\n",
       "      <td>18.059</td>\n",
       "      <td>NaN</td>\n",
       "      <td>16.918</td>\n",
       "      <td>18.101</td>\n",
       "      <td>11.713</td>\n",
       "      <td>19.358</td>\n",
       "      <td>11.392</td>\n",
       "      <td>17.064</td>\n",
       "      <td>17.814</td>\n",
       "      <td>14.928</td>\n",
       "      <td>16.273</td>\n",
       "      <td>15.485</td>\n",
       "      <td>13.624</td>\n",
       "      <td>12.865</td>\n",
       "      <td>730.156</td>\n",
       "      <td>0</td>\n",
       "      <td>False</td>\n",
       "      <td>True</td>\n",
       "      <td>False</td>\n",
       "      <td>False</td>\n",
       "      <td>54</td>\n",
       "      <td>13</td>\n",
       "      <td>6</td>\n",
       "      <td>15</td>\n",
       "      <td>16.556100</td>\n",
       "      <td>2.052536</td>\n",
       "      <td>12.677667</td>\n",
       "      <td>1.955444</td>\n",
       "      <td>0.0</td>\n",
       "    </tr>\n",
       "    <tr>\n",
       "      <th>26569</th>\n",
       "      <td>E</td>\n",
       "      <td>131.20</td>\n",
       "      <td>material_7</td>\n",
       "      <td>material_6</td>\n",
       "      <td>6</td>\n",
       "      <td>9</td>\n",
       "      <td>6</td>\n",
       "      <td>19</td>\n",
       "      <td>1</td>\n",
       "      <td>18.034</td>\n",
       "      <td>11.431</td>\n",
       "      <td>16.918</td>\n",
       "      <td>17.129</td>\n",
       "      <td>12.713</td>\n",
       "      <td>18.731</td>\n",
       "      <td>10.611</td>\n",
       "      <td>15.603</td>\n",
       "      <td>19.703</td>\n",
       "      <td>11.006</td>\n",
       "      <td>15.875</td>\n",
       "      <td>13.366</td>\n",
       "      <td>16.527</td>\n",
       "      <td>17.890</td>\n",
       "      <td>602.354</td>\n",
       "      <td>0</td>\n",
       "      <td>False</td>\n",
       "      <td>False</td>\n",
       "      <td>False</td>\n",
       "      <td>False</td>\n",
       "      <td>54</td>\n",
       "      <td>20</td>\n",
       "      <td>7</td>\n",
       "      <td>26</td>\n",
       "      <td>16.977600</td>\n",
       "      <td>1.789758</td>\n",
       "      <td>11.440250</td>\n",
       "      <td>0.912178</td>\n",
       "      <td>0.0</td>\n",
       "    </tr>\n",
       "  </tbody>\n",
       "</table>\n",
       "<p>26570 rows × 38 columns</p>\n",
       "</div>"
      ],
      "text/plain": [
       "      product_code  loading attribute_0 attribute_1  attribute_2  attribute_3  \\\n",
       "id                                                                              \n",
       "0                A    80.10  material_7  material_8            9            5   \n",
       "1                A    84.89  material_7  material_8            9            5   \n",
       "2                A    82.43  material_7  material_8            9            5   \n",
       "3                A   101.07  material_7  material_8            9            5   \n",
       "4                A   188.06  material_7  material_8            9            5   \n",
       "...            ...      ...         ...         ...          ...          ...   \n",
       "26565            E   158.95  material_7  material_6            6            9   \n",
       "26566            E   146.02  material_7  material_6            6            9   \n",
       "26567            E   115.62  material_7  material_6            6            9   \n",
       "26568            E   106.38  material_7  material_6            6            9   \n",
       "26569            E   131.20  material_7  material_6            6            9   \n",
       "\n",
       "       measurement_0  measurement_1  measurement_2  measurement_3  \\\n",
       "id                                                                  \n",
       "0                  7              8              4         18.040   \n",
       "1                 14              3              3         18.213   \n",
       "2                 12              1              5         18.057   \n",
       "3                 13              2              6         17.295   \n",
       "4                  9              2              8         19.346   \n",
       "...              ...            ...            ...            ...   \n",
       "26565              6             16              4         16.301   \n",
       "26566             10             12              8         17.543   \n",
       "26567              1             10              1         15.670   \n",
       "26568              2              9              4         18.059   \n",
       "26569              6             19              1         18.034   \n",
       "\n",
       "       measurement_4  measurement_5  measurement_6  measurement_7  \\\n",
       "id                                                                  \n",
       "0             12.518         15.748         19.292         11.739   \n",
       "1             11.540         17.717         17.893         12.748   \n",
       "2             11.652         16.738         18.240         12.718   \n",
       "3             11.188         18.576         18.339         12.583   \n",
       "4             12.950         16.990         15.746         11.306   \n",
       "...              ...            ...            ...            ...   \n",
       "26565         13.259         18.068         15.505         10.865   \n",
       "26566            NaN         17.984         19.078         11.139   \n",
       "26567         11.535         16.778         18.385         11.630   \n",
       "26568            NaN         16.918         18.101         11.713   \n",
       "26569         11.431         16.918         17.129         12.713   \n",
       "\n",
       "       measurement_8  measurement_9  measurement_10  measurement_11  \\\n",
       "id                                                                    \n",
       "0             20.155         10.672          15.859          17.594   \n",
       "1             17.889         12.448          17.947          17.915   \n",
       "2             18.288         12.715          15.607             NaN   \n",
       "3             19.060         12.471          16.346          18.377   \n",
       "4             18.093         10.337          17.082          19.932   \n",
       "...              ...            ...             ...             ...   \n",
       "26565         19.354            NaN          12.177          17.942   \n",
       "26566         19.563         11.242          14.179          20.564   \n",
       "26567         19.279         11.407          16.437          17.476   \n",
       "26568         19.358         11.392          17.064          17.814   \n",
       "26569         18.731         10.611          15.603          19.703   \n",
       "\n",
       "       measurement_12  measurement_13  measurement_14  measurement_15  \\\n",
       "id                                                                      \n",
       "0              15.193          15.029             NaN          13.034   \n",
       "1              11.755          14.732          15.425          14.395   \n",
       "2              13.798          16.711          18.631          14.094   \n",
       "3              10.020          15.250          15.562          16.154   \n",
       "4              12.428          16.182          12.760          13.153   \n",
       "...               ...             ...             ...             ...   \n",
       "26565          10.112          15.795          18.572          16.144   \n",
       "26566          10.234          14.450          14.322          13.146   \n",
       "26567           8.668          15.069          16.599          15.590   \n",
       "26568          14.928          16.273          15.485          13.624   \n",
       "26569          11.006          15.875          13.366          16.527   \n",
       "\n",
       "       measurement_16  measurement_17  failure  m_3_missing  m_4_missing  \\\n",
       "id                                                                         \n",
       "0              14.684         764.100        0        False        False   \n",
       "1              15.631         682.057        0        False        False   \n",
       "2              17.946         663.376        0        False        False   \n",
       "3              17.172         826.282        0        False        False   \n",
       "4              16.412         579.885        0        False        False   \n",
       "...               ...             ...      ...          ...          ...   \n",
       "26565             NaN         729.131        0        False        False   \n",
       "26566          16.471         853.924        0        False         True   \n",
       "26567          14.065         750.364        0        False        False   \n",
       "26568          12.865         730.156        0        False         True   \n",
       "26569          17.890         602.354        0        False        False   \n",
       "\n",
       "       m_5_missing  m_9_missing  area  plus01  plus02  plus03  \\\n",
       "id                                                              \n",
       "0            False        False    45      12      11      19   \n",
       "1            False        False    45       6      17      20   \n",
       "2            False        False    45       6      17      18   \n",
       "3            False        False    45       8      19      21   \n",
       "4            False        False    45      10      17      19   \n",
       "...            ...          ...   ...     ...     ...     ...   \n",
       "26565        False         True    54      20      10      26   \n",
       "26566        False        False    54      20      18      30   \n",
       "26567        False        False    54      11       2      12   \n",
       "26568        False        False    54      13       6      15   \n",
       "26569        False        False    54      20       7      26   \n",
       "\n",
       "       mean_mean35681011  mean_std35681011  mean_mean49912  mean_std47912  \\\n",
       "id                                                                          \n",
       "0              16.603889          2.320475       12.530500       1.929556   \n",
       "1              16.775700          1.530751       12.122750       0.569082   \n",
       "2              17.145778          1.508934       12.720750       0.876115   \n",
       "3              17.213100          1.347949       11.565500       1.209175   \n",
       "4              16.569600          2.328895       11.755250       1.168087   \n",
       "...                  ...               ...             ...            ...   \n",
       "26565          16.650889          2.153871       11.412000       1.643262   \n",
       "26566          16.730000          2.601039       10.871667       0.554632   \n",
       "26567          16.534800          1.556405       10.810000       1.430920   \n",
       "26568          16.556100          2.052536       12.677667       1.955444   \n",
       "26569          16.977600          1.789758       11.440250       0.912178   \n",
       "\n",
       "       material  \n",
       "id               \n",
       "0           1.0  \n",
       "1           1.0  \n",
       "2           1.0  \n",
       "3           1.0  \n",
       "4           1.0  \n",
       "...         ...  \n",
       "26565       0.0  \n",
       "26566       0.0  \n",
       "26567       0.0  \n",
       "26568       0.0  \n",
       "26569       0.0  \n",
       "\n",
       "[26570 rows x 38 columns]"
      ]
     },
     "execution_count": 54,
     "metadata": {},
     "output_type": "execute_result"
    }
   ],
   "source": [
    "df = pd.read_csv(\"train.csv\",index_col=0)\n",
    "df['m_3_missing'] = df.measurement_3.isna()\n",
    "df['m_4_missing'] = df.measurement_4.isna()\n",
    "df['m_5_missing'] = df.measurement_5.isna()\n",
    "df['m_9_missing'] = df.measurement_9.isna()\n",
    "df['area'] = df['attribute_2']*df['attribute_3']\n",
    "df['plus01'] = df[\"measurement_1\"]+df[\"measurement_2\"]\n",
    "df['plus02'] = df[\"measurement_0\"]+df[\"measurement_2\"]\n",
    "df['plus03'] = df[\"measurement_0\"]+df[\"measurement_1\"]+df[\"measurement_2\"]\n",
    "df['mean_mean35681011'] = df[['measurement_3','measurement_5','measurement_6','measurement_8','measurement_10','measurement_11','measurement_13','measurement_14','measurement_15','measurement_16']].mean(axis=1)\n",
    "df['mean_std35681011'] = df[['measurement_3','measurement_5','measurement_6','measurement_8','measurement_10','measurement_11','measurement_13','measurement_14','measurement_15','measurement_16']].std(axis=1)\n",
    "df['mean_mean49912'] = df[['measurement_4','measurement_7','measurement_9','measurement_12']].mean(axis=1)\n",
    "df['mean_std47912'] = df[['measurement_4','measurement_7','measurement_9','measurement_12']].std(axis=1)\n",
    "#df['loading'] = np.log(df[\"loading\"])\n",
    "\n",
    "f = (df['attribute_0']=='material_7') & (df['attribute_1']=='material_8')\n",
    "df.loc[f,'material']=1\n",
    "df.loc[~f,'material']=0\n",
    "df"
   ]
  },
  {
   "cell_type": "code",
   "execution_count": 55,
   "id": "a4a2c484-d2fb-4bbd-930a-fcd21f86a9e3",
   "metadata": {},
   "outputs": [
    {
     "data": {
      "text/plain": [
       "(array([15705.,     0.,     0.,     0.,     0.,     0.,     0.,     0.,\n",
       "            0.,     0.,     0.,     0.,     0.,     0.,     0.,     0.,\n",
       "            0.,     0.,     0., 10865.]),\n",
       " array([0.  , 0.05, 0.1 , 0.15, 0.2 , 0.25, 0.3 , 0.35, 0.4 , 0.45, 0.5 ,\n",
       "        0.55, 0.6 , 0.65, 0.7 , 0.75, 0.8 , 0.85, 0.9 , 0.95, 1.  ]),\n",
       " <BarContainer object of 20 artists>)"
      ]
     },
     "execution_count": 55,
     "metadata": {},
     "output_type": "execute_result"
    },
    {
     "data": {
      "image/png": "[encoded data removed]",
      "text/plain": [
       "<Figure size 432x288 with 1 Axes>"
      ]
     },
     "metadata": {
      "needs_background": "light"
     },
     "output_type": "display_data"
    }
   ],
   "source": [
    "import matplotlib.pyplot as plt\n",
    "plt.hist(df[\"material\"],bins=20)"
   ]
  },
  {
   "cell_type": "code",
   "execution_count": 56,
   "id": "f4a32851-9f21-4840-8adc-2c85a66b897c",
   "metadata": {},
   "outputs": [],
   "source": [
    "from sklearn.model_selection import train_test_split\n",
    "X_train, X_test, y_train, y_test = train_test_split(df.drop(\"failure\",axis=1),df[\"failure\"],test_size=0.2, random_state=42)"
   ]
  },
  {
   "cell_type": "code",
   "execution_count": 57,
   "id": "2263b774-e62e-4beb-b2b5-34e4a2864356",
   "metadata": {},
   "outputs": [
    {
     "name": "stderr",
     "output_type": "stream",
     "text": [
      "/opt/anaconda3/lib/python3.9/site-packages/sklearn/impute/_iterative.py:699: ConvergenceWarning: [IterativeImputer] Early stopping criterion not reached.\n",
      "  warnings.warn(\n",
      "/var/folders/_0/ycth_cf923q232q48fh0mbl80000gn/T/ipykernel_8448/2521645083.py:9: SettingWithCopyWarning: \n",
      "A value is trying to be set on a copy of a slice from a DataFrame.\n",
      "Try using .loc[row_indexer,col_indexer] = value instead\n",
      "\n",
      "See the caveats in the documentation: https://pandas.pydata.org/pandas-docs/stable/user_guide/indexing.html#returning-a-view-versus-a-copy\n",
      "  X_train_non_cat.iloc[:,:]=X_train_non_cat_imp\n",
      "/var/folders/_0/ycth_cf923q232q48fh0mbl80000gn/T/ipykernel_8448/2521645083.py:13: SettingWithCopyWarning: \n",
      "A value is trying to be set on a copy of a slice from a DataFrame.\n",
      "Try using .loc[row_indexer,col_indexer] = value instead\n",
      "\n",
      "See the caveats in the documentation: https://pandas.pydata.org/pandas-docs/stable/user_guide/indexing.html#returning-a-view-versus-a-copy\n",
      "  X_test_non_cat.iloc[:,:]=X_test_non_cat_imp\n"
     ]
    }
   ],
   "source": [
    "from sklearn.experimental import enable_iterative_imputer\n",
    "from sklearn.impute import IterativeImputer\n",
    "imputer = IterativeImputer(n_nearest_features=3)\n",
    "cat = [\"product_code\",\"attribute_0\",\"attribute_1\",'m_3_missing','m_4_missing','m_5_missing','m_9_missing','material']\n",
    "non_cat = [k for k in X_train if k not in cat]\n",
    "X_train_non_cat = X_train[non_cat]\n",
    "imputer = imputer.fit(X_train_non_cat)\n",
    "X_train_non_cat_imp= imputer.transform(X_train_non_cat)\n",
    "X_train_non_cat.iloc[:,:]=X_train_non_cat_imp\n",
    "X_train_non_cat = X_train_non_cat[[\"loading\",\"measurement_1\",\"measurement_2\",\"measurement_17\",'plus02','mean_mean35681011','mean_std35681011','mean_mean49912','mean_std47912']]\n",
    "X_test_non_cat = X_test[non_cat]\n",
    "X_test_non_cat_imp= imputer.transform(X_test_non_cat)\n",
    "X_test_non_cat.iloc[:,:]=X_test_non_cat_imp\n",
    "X_test_non_cat = X_test_non_cat[[\"loading\",\"measurement_1\",\"measurement_2\",\"measurement_17\",'plus02','mean_mean35681011','mean_std35681011','mean_mean49912','mean_std47912']]\n",
    "X_train_cat = X_train[['m_3_missing']]\n",
    "X_test_cat = X_test[['m_3_missing']]\n",
    "#y = df_non_cat[\"failure\"]\n",
    "#df_non_cat = df_non_cat.drop(\"failure\",axis=1)"
   ]
  },
  {
   "cell_type": "code",
   "execution_count": 58,
   "id": "ec707b1f-fa2f-4055-a912-c6bc97eaf4ac",
   "metadata": {},
   "outputs": [
    {
     "data": {
      "text/html": [
       "<div>\n",
       "<style scoped>\n",
       "    .dataframe tbody tr th:only-of-type {\n",
       "        vertical-align: middle;\n",
       "    }\n",
       "\n",
       "    .dataframe tbody tr th {\n",
       "        vertical-align: top;\n",
       "    }\n",
       "\n",
       "    .dataframe thead th {\n",
       "        text-align: right;\n",
       "    }\n",
       "</style>\n",
       "<table border=\"1\" class=\"dataframe\">\n",
       "  <thead>\n",
       "    <tr style=\"text-align: right;\">\n",
       "      <th></th>\n",
       "      <th>loading</th>\n",
       "      <th>measurement_1</th>\n",
       "      <th>measurement_2</th>\n",
       "      <th>measurement_17</th>\n",
       "      <th>plus02</th>\n",
       "      <th>mean_mean35681011</th>\n",
       "      <th>mean_std35681011</th>\n",
       "      <th>mean_mean49912</th>\n",
       "      <th>mean_std47912</th>\n",
       "    </tr>\n",
       "    <tr>\n",
       "      <th>id</th>\n",
       "      <th></th>\n",
       "      <th></th>\n",
       "      <th></th>\n",
       "      <th></th>\n",
       "      <th></th>\n",
       "      <th></th>\n",
       "      <th></th>\n",
       "      <th></th>\n",
       "      <th></th>\n",
       "    </tr>\n",
       "  </thead>\n",
       "  <tbody>\n",
       "    <tr>\n",
       "      <th>4031</th>\n",
       "      <td>125.77</td>\n",
       "      <td>1.0</td>\n",
       "      <td>3.0</td>\n",
       "      <td>879.008</td>\n",
       "      <td>16.0</td>\n",
       "      <td>16.238400</td>\n",
       "      <td>2.533406</td>\n",
       "      <td>12.24100</td>\n",
       "      <td>1.743671</td>\n",
       "    </tr>\n",
       "    <tr>\n",
       "      <th>2375</th>\n",
       "      <td>108.12</td>\n",
       "      <td>8.0</td>\n",
       "      <td>7.0</td>\n",
       "      <td>760.411</td>\n",
       "      <td>21.0</td>\n",
       "      <td>17.197889</td>\n",
       "      <td>1.989766</td>\n",
       "      <td>11.32350</td>\n",
       "      <td>0.246615</td>\n",
       "    </tr>\n",
       "    <tr>\n",
       "      <th>13904</th>\n",
       "      <td>190.34</td>\n",
       "      <td>11.0</td>\n",
       "      <td>10.0</td>\n",
       "      <td>675.360</td>\n",
       "      <td>26.0</td>\n",
       "      <td>16.839400</td>\n",
       "      <td>1.113451</td>\n",
       "      <td>11.28600</td>\n",
       "      <td>1.074905</td>\n",
       "    </tr>\n",
       "    <tr>\n",
       "      <th>18772</th>\n",
       "      <td>132.96</td>\n",
       "      <td>8.0</td>\n",
       "      <td>5.0</td>\n",
       "      <td>966.597</td>\n",
       "      <td>13.0</td>\n",
       "      <td>18.308222</td>\n",
       "      <td>1.352561</td>\n",
       "      <td>12.00475</td>\n",
       "      <td>0.782696</td>\n",
       "    </tr>\n",
       "    <tr>\n",
       "      <th>3884</th>\n",
       "      <td>108.12</td>\n",
       "      <td>5.0</td>\n",
       "      <td>4.0</td>\n",
       "      <td>566.990</td>\n",
       "      <td>15.0</td>\n",
       "      <td>16.950700</td>\n",
       "      <td>2.161062</td>\n",
       "      <td>11.24525</td>\n",
       "      <td>0.458847</td>\n",
       "    </tr>\n",
       "    <tr>\n",
       "      <th>...</th>\n",
       "      <td>...</td>\n",
       "      <td>...</td>\n",
       "      <td>...</td>\n",
       "      <td>...</td>\n",
       "      <td>...</td>\n",
       "      <td>...</td>\n",
       "      <td>...</td>\n",
       "      <td>...</td>\n",
       "      <td>...</td>\n",
       "    </tr>\n",
       "    <tr>\n",
       "      <th>21575</th>\n",
       "      <td>139.08</td>\n",
       "      <td>9.0</td>\n",
       "      <td>8.0</td>\n",
       "      <td>695.848</td>\n",
       "      <td>15.0</td>\n",
       "      <td>17.342111</td>\n",
       "      <td>2.185551</td>\n",
       "      <td>12.26925</td>\n",
       "      <td>2.298304</td>\n",
       "    </tr>\n",
       "    <tr>\n",
       "      <th>5390</th>\n",
       "      <td>156.74</td>\n",
       "      <td>7.0</td>\n",
       "      <td>10.0</td>\n",
       "      <td>773.321</td>\n",
       "      <td>16.0</td>\n",
       "      <td>16.401222</td>\n",
       "      <td>1.801142</td>\n",
       "      <td>12.06275</td>\n",
       "      <td>1.364511</td>\n",
       "    </tr>\n",
       "    <tr>\n",
       "      <th>860</th>\n",
       "      <td>115.63</td>\n",
       "      <td>6.0</td>\n",
       "      <td>3.0</td>\n",
       "      <td>851.546</td>\n",
       "      <td>17.0</td>\n",
       "      <td>17.114444</td>\n",
       "      <td>2.187756</td>\n",
       "      <td>11.26850</td>\n",
       "      <td>0.706779</td>\n",
       "    </tr>\n",
       "    <tr>\n",
       "      <th>15795</th>\n",
       "      <td>216.26</td>\n",
       "      <td>6.0</td>\n",
       "      <td>3.0</td>\n",
       "      <td>569.180</td>\n",
       "      <td>13.0</td>\n",
       "      <td>16.869100</td>\n",
       "      <td>1.878396</td>\n",
       "      <td>11.05150</td>\n",
       "      <td>1.459827</td>\n",
       "    </tr>\n",
       "    <tr>\n",
       "      <th>23654</th>\n",
       "      <td>120.65</td>\n",
       "      <td>8.0</td>\n",
       "      <td>4.0</td>\n",
       "      <td>787.277</td>\n",
       "      <td>7.0</td>\n",
       "      <td>17.066600</td>\n",
       "      <td>2.010930</td>\n",
       "      <td>12.09325</td>\n",
       "      <td>1.718387</td>\n",
       "    </tr>\n",
       "  </tbody>\n",
       "</table>\n",
       "<p>21256 rows × 9 columns</p>\n",
       "</div>"
      ],
      "text/plain": [
       "       loading  measurement_1  measurement_2  measurement_17  plus02  \\\n",
       "id                                                                     \n",
       "4031    125.77            1.0            3.0         879.008    16.0   \n",
       "2375    108.12            8.0            7.0         760.411    21.0   \n",
       "13904   190.34           11.0           10.0         675.360    26.0   \n",
       "18772   132.96            8.0            5.0         966.597    13.0   \n",
       "3884    108.12            5.0            4.0         566.990    15.0   \n",
       "...        ...            ...            ...             ...     ...   \n",
       "21575   139.08            9.0            8.0         695.848    15.0   \n",
       "5390    156.74            7.0           10.0         773.321    16.0   \n",
       "860     115.63            6.0            3.0         851.546    17.0   \n",
       "15795   216.26            6.0            3.0         569.180    13.0   \n",
       "23654   120.65            8.0            4.0         787.277     7.0   \n",
       "\n",
       "       mean_mean35681011  mean_std35681011  mean_mean49912  mean_std47912  \n",
       "id                                                                         \n",
       "4031           16.238400          2.533406        12.24100       1.743671  \n",
       "2375           17.197889          1.989766        11.32350       0.246615  \n",
       "13904          16.839400          1.113451        11.28600       1.074905  \n",
       "18772          18.308222          1.352561        12.00475       0.782696  \n",
       "3884           16.950700          2.161062        11.24525       0.458847  \n",
       "...                  ...               ...             ...            ...  \n",
       "21575          17.342111          2.185551        12.26925       2.298304  \n",
       "5390           16.401222          1.801142        12.06275       1.364511  \n",
       "860            17.114444          2.187756        11.26850       0.706779  \n",
       "15795          16.869100          1.878396        11.05150       1.459827  \n",
       "23654          17.066600          2.010930        12.09325       1.718387  \n",
       "\n",
       "[21256 rows x 9 columns]"
      ]
     },
     "execution_count": 58,
     "metadata": {},
     "output_type": "execute_result"
    }
   ],
   "source": [
    "X_train_non_cat"
   ]
  },
  {
   "cell_type": "code",
   "execution_count": 59,
   "id": "2cec7b6c-ab4e-43da-afbf-cddacdcbf143",
   "metadata": {},
   "outputs": [],
   "source": [
    "from sklearn.preprocessing import StandardScaler\n",
    "sc = StandardScaler()\n",
    "scalar = sc.fit(X_train_non_cat)\n",
    "X_train_non_cat = scalar.transform(X_train_non_cat)\n",
    "X_test_non_cat = scalar.transform(X_test_non_cat)"
   ]
  },
  {
   "cell_type": "code",
   "execution_count": 60,
   "id": "8b78fcf5-6322-411a-8713-c884f702de97",
   "metadata": {},
   "outputs": [],
   "source": [
    "#from sklearn.manifold import TSNE\n",
    "#tsne = TSNE(n_components=3, learning_rate='auto',\n",
    "#                 init='random', perplexity=3)\n",
    "#tsne = tsne.fit(X_train)\n",
    "#X_train = tsne.transform(X_train)\n",
    "#X_test = tsne.transform(X_test)"
   ]
  },
  {
   "cell_type": "code",
   "execution_count": 61,
   "id": "072b4d24-d167-4781-a27c-5e8e3691acca",
   "metadata": {},
   "outputs": [],
   "source": [
    "#from sklearn.decomposition import PCA\n",
    "#PCA = PCA(n_components=3)\n",
    "#PCA = PCA.fit(X_train_non_cat)\n",
    "#X_train_non_cat = PCA.transform(X_train_non_cat)\n",
    "#X_test_non_cat = PCA.transform(X_test_non_cat)\n",
    "#PCA.explained_variance_ratio_"
   ]
  },
  {
   "cell_type": "code",
   "execution_count": 62,
   "id": "f581039f-558f-4499-b26f-773d879127b0",
   "metadata": {},
   "outputs": [],
   "source": [
    "X_train = np.concatenate((pd.get_dummies(X_train_cat).values,X_train_non_cat),axis=1)\n",
    "X_test = np.concatenate((pd.get_dummies(X_test_cat).values,X_test_non_cat),axis=1)"
   ]
  },
  {
   "cell_type": "code",
   "execution_count": 63,
   "id": "f5eec6fb-38f8-4634-90df-6fbd14705922",
   "metadata": {},
   "outputs": [
    {
     "data": {
      "text/plain": [
       "array([[ 0.        , -0.053522  , -1.72380914, ...,  1.60674972,\n",
       "         1.01148176,  1.46821487],\n",
       "       [ 0.        , -0.50825688, -0.06053179, ...,  0.30997579,\n",
       "        -0.55427558, -1.68635528],\n",
       "       [ 0.        ,  1.61006051,  0.65230135, ..., -1.78034547,\n",
       "        -0.61827112,  0.05900389],\n",
       "       ...,\n",
       "       [ 0.        , -0.31476912, -0.53575389, ...,  0.78225103,\n",
       "        -0.6481357 , -0.71670494],\n",
       "       [ 0.        ,  2.2778638 , -0.53575389, ...,  0.04432012,\n",
       "        -1.01845651,  0.87010363],\n",
       "       [ 0.        , -0.18543376, -0.06053179, ...,  0.36046063,\n",
       "         0.75933937,  1.4149376 ]])"
      ]
     },
     "execution_count": 63,
     "metadata": {},
     "output_type": "execute_result"
    }
   ],
   "source": [
    "X_train"
   ]
  },
  {
   "cell_type": "code",
   "execution_count": 64,
   "id": "60448eae-1cd2-4062-956a-2b8fa418a7dd",
   "metadata": {},
   "outputs": [
    {
     "data": {
      "text/plain": [
       "0.801091456529921"
      ]
     },
     "execution_count": 64,
     "metadata": {},
     "output_type": "execute_result"
    }
   ],
   "source": [
    "#logistic Regression\n",
    "from sklearn.feature_selection import RFE\n",
    "from sklearn.linear_model import LogisticRegression\n",
    "from sklearn.model_selection import cross_validate\n",
    "from sklearn.model_selection import cross_val_score, GridSearchCV\n",
    "\n",
    "\n",
    "p_grid ={\"penalty\":['l2'],\n",
    "        \"solver\":[\"liblinear\"]}\n",
    "log = LogisticRegression()\n",
    "log_cv_results = GridSearchCV(log,param_grid=p_grid, cv=4)\n",
    "\n",
    "\n",
    "model_log = log_cv_results.fit(X_train,y_train)\n",
    "model_log.score(X_test,y_test)\n",
    "#nested_scores_log = cross_val_score(estimator = cv_results,X =X,y=y,cv=4)\n",
    "#log = LogisticRegression()\n",
    "#model = cv_results.fit(**best_iteration_,X,y)\n",
    "#y_log_prob = model.predict_proba(X)\n",
    "#y_log = model.predict(X)"
   ]
  },
  {
   "cell_type": "code",
   "execution_count": 65,
   "id": "abd8b565-ad90-4738-a0ef-c2d2f65d7026",
   "metadata": {},
   "outputs": [
    {
     "data": {
      "text/plain": [
       "0    5300\n",
       "1      14\n",
       "dtype: int64"
      ]
     },
     "execution_count": 65,
     "metadata": {},
     "output_type": "execute_result"
    }
   ],
   "source": [
    "pd.DataFrame(model_log.predict(X_test)).value_counts()"
   ]
  },
  {
   "cell_type": "code",
   "execution_count": 66,
   "id": "51a0dbab-b93c-4265-bd7a-8221e0759968",
   "metadata": {},
   "outputs": [
    {
     "data": {
      "text/plain": [
       "14"
      ]
     },
     "execution_count": 66,
     "metadata": {},
     "output_type": "execute_result"
    }
   ],
   "source": [
    "(model_log.predict_proba(X_test)[:,1]>0.5).sum()"
   ]
  },
  {
   "cell_type": "code",
   "execution_count": 67,
   "id": "12917d1c-fbe1-4665-afaa-44aba446be29",
   "metadata": {},
   "outputs": [
    {
     "data": {
      "text/plain": [
       "0.7941287165976666"
      ]
     },
     "execution_count": 67,
     "metadata": {},
     "output_type": "execute_result"
    }
   ],
   "source": [
    "#GaussianNB\n",
    "\n",
    "from sklearn.model_selection import cross_validate\n",
    "from sklearn.model_selection import cross_val_score, GridSearchCV\n",
    "from sklearn.naive_bayes import GaussianNB\n",
    "\n",
    "p_grid ={}\n",
    "\n",
    "GNB = GaussianNB()\n",
    "GNB_cv_results = GridSearchCV(GNB,param_grid=p_grid, cv=4)\n",
    "modelGNB = GNB_cv_results.fit(X_train,y_train)\n",
    "#nested_scores_GNB = cross_val_score(estimator = cv_results,X =X,y=y,cv=4)\n",
    "modelGNB.score(X_test,y_test)\n",
    "\n",
    "#model_GNB = cv_results.fit(X,y)\n",
    "#model_GNB.score(X,y)\n",
    "#y_GNB_prob = model_GNB.predict_proba(X)\n",
    "#y_GNB_prob\n",
    "#y_GNB = model_GNB.predict(X)"
   ]
  },
  {
   "cell_type": "code",
   "execution_count": 68,
   "id": "18aa8ba0-6c1c-488c-91e2-5d6948b740cb",
   "metadata": {},
   "outputs": [
    {
     "data": {
      "text/plain": [
       "0    5177\n",
       "1     137\n",
       "dtype: int64"
      ]
     },
     "execution_count": 68,
     "metadata": {},
     "output_type": "execute_result"
    }
   ],
   "source": [
    "pd.DataFrame(modelGNB.predict(X_test)).value_counts()"
   ]
  },
  {
   "cell_type": "code",
   "execution_count": 69,
   "id": "9708218c-ff8e-4d74-9dc2-2867bc9071ba",
   "metadata": {},
   "outputs": [
    {
     "data": {
      "text/plain": [
       "137"
      ]
     },
     "execution_count": 69,
     "metadata": {},
     "output_type": "execute_result"
    }
   ],
   "source": [
    "(modelGNB.predict_proba(X_test)[:,1]>0.5).sum()"
   ]
  },
  {
   "cell_type": "code",
   "execution_count": 70,
   "id": "d303a117-3275-4eab-8cf2-8f55d90d18cf",
   "metadata": {},
   "outputs": [
    {
     "data": {
      "text/plain": [
       "0.801091456529921"
      ]
     },
     "execution_count": 70,
     "metadata": {},
     "output_type": "execute_result"
    }
   ],
   "source": [
    "from sklearn.ensemble import RandomForestClassifier\n",
    "\n",
    "p_grid ={'max_depth':[2,3],\n",
    "        'n_estimators':[100]}\n",
    "RF = RandomForestClassifier()\n",
    "RF_cv_results = GridSearchCV(RF,param_grid=p_grid, cv=4)\n",
    "#nested_scores_RF = cross_val_score(estimator = cv_results,X =X,y=y,cv=4)\n",
    "\n",
    "model_RF = RF_cv_results.fit(X_train,y_train)\n",
    "model_RF.score(X_test,y_test)\n",
    "#y_RF_prob = model_RF.predict_proba(X)\n",
    "#y_RF_prob\n",
    "#y_RF = model_RF.predict(X)"
   ]
  },
  {
   "cell_type": "code",
   "execution_count": 71,
   "id": "8bdf6d4b-6134-42e4-9073-bbfdf59eff6f",
   "metadata": {},
   "outputs": [
    {
     "data": {
      "text/plain": [
       "0    5314\n",
       "dtype: int64"
      ]
     },
     "execution_count": 71,
     "metadata": {},
     "output_type": "execute_result"
    }
   ],
   "source": [
    "pd.DataFrame(model_RF.predict(X_test)).value_counts()"
   ]
  },
  {
   "cell_type": "code",
   "execution_count": 81,
   "id": "c17e4fcb-c177-404f-8f5d-2e582ce2e9ea",
   "metadata": {},
   "outputs": [
    {
     "name": "stderr",
     "output_type": "stream",
     "text": [
      "/opt/anaconda3/lib/python3.9/site-packages/lightgbm/engine.py:153: UserWarning: Found `early_stopping` in params. Will use it instead of argument\n",
      "  _log_warning(\"Found `{}` in params. Will use it instead of argument\".format(alias))\n"
     ]
    },
    {
     "name": "stdout",
     "output_type": "stream",
     "text": [
      "[LightGBM] [Warning] early_stopping_round is set=100, early_stopping=100 will be ignored. Current value: early_stopping_round=100\n",
      "Training until validation scores don't improve for 100 rounds\n",
      "[100]\ttraining's binary_logloss: 0.514447\tvalid_1's binary_logloss: 0.493197\n",
      "[200]\ttraining's binary_logloss: 0.512569\tvalid_1's binary_logloss: 0.492028\n",
      "[300]\ttraining's binary_logloss: 0.511507\tvalid_1's binary_logloss: 0.491701\n",
      "[400]\ttraining's binary_logloss: 0.510589\tvalid_1's binary_logloss: 0.491532\n",
      "[500]\ttraining's binary_logloss: 0.509763\tvalid_1's binary_logloss: 0.49152\n",
      "[600]\ttraining's binary_logloss: 0.509017\tvalid_1's binary_logloss: 0.491433\n",
      "[700]\ttraining's binary_logloss: 0.508323\tvalid_1's binary_logloss: 0.491406\n",
      "[800]\ttraining's binary_logloss: 0.507637\tvalid_1's binary_logloss: 0.491418\n",
      "Early stopping, best iteration is:\n",
      "[767]\ttraining's binary_logloss: 0.507857\tvalid_1's binary_logloss: 0.491392\n"
     ]
    },
    {
     "data": {
      "text/plain": [
       "0.801091456529921"
      ]
     },
     "execution_count": 81,
     "metadata": {},
     "output_type": "execute_result"
    }
   ],
   "source": [
    "#lgbm\n",
    "from lightgbm import LGBMClassifier\n",
    "#p_grid={\"max_depth\":[2,3],\n",
    "#       \"n_estimators\":[20,50,100,200],\n",
    "#       \"min_child_samples\":[3,4,5]}\n",
    "lgb = LGBMClassifier(n_estimators=8000,\n",
    "                     early_stopping=100,\n",
    "                     learning_rate = 0.01,\n",
    "                     max_depth=3,\n",
    "                     min_child_samples=10,\n",
    "                     num_leaves=4,\n",
    "                     reg_alpha=0.01,\n",
    "                     reg_lambda=0.01\n",
    "                    )\n",
    "#cv_results = GridSearchCV(lgb,param_grid=p_grid, cv=4)\n",
    "#nested_scores_lgb = cross_val_score(estimator = cv_results,X =X,y=y,cv=4)\n",
    "\n",
    "model_lgb = lgb.fit(X_train,y_train,\n",
    "                    eval_set=[(X_train,y_train),(X_test,y_test)],\n",
    "                    verbose=100)\n",
    "model_lgb.score(X_test,y_test)\n",
    "#y_lgb_prob = model_lgb.predict_proba(X)\n",
    "#y_lgb_prob\n",
    "#y_lgb = model_lgb.predict(X)"
   ]
  },
  {
   "cell_type": "code",
   "execution_count": 82,
   "id": "10b0c256-f2da-4117-8892-fb119b2cc12b",
   "metadata": {},
   "outputs": [
    {
     "data": {
      "text/plain": [
       "0    5314\n",
       "dtype: int64"
      ]
     },
     "execution_count": 82,
     "metadata": {},
     "output_type": "execute_result"
    }
   ],
   "source": [
    "pd.DataFrame(model_lgb.predict(X_test)).value_counts()"
   ]
  },
  {
   "cell_type": "code",
   "execution_count": 80,
   "id": "76965228-cd88-4b09-ac08-f49618525778",
   "metadata": {},
   "outputs": [
    {
     "data": {
      "text/plain": [
       "0    4257\n",
       "1    1057\n",
       "Name: failure, dtype: int64"
      ]
     },
     "execution_count": 80,
     "metadata": {},
     "output_type": "execute_result"
    }
   ],
   "source": [
    "y_test.value_counts()"
   ]
  },
  {
   "cell_type": "code",
   "execution_count": 1250,
   "id": "820f3419-7fb7-486e-bb21-f39dbf184e08",
   "metadata": {},
   "outputs": [
    {
     "data": {
      "text/plain": [
       "array([ 150, 1091,   93,  225,  437,  128,  295,   65,  178,   20],\n",
       "      dtype=int32)"
      ]
     },
     "execution_count": 1250,
     "metadata": {},
     "output_type": "execute_result"
    }
   ],
   "source": [
    "model_lgb.feature_importances_\n"
   ]
  },
  {
   "cell_type": "code",
   "execution_count": 1251,
   "id": "976ebe87-63b8-446c-80e8-1dd94828b0a6",
   "metadata": {},
   "outputs": [
    {
     "data": {
      "text/plain": [
       "0"
      ]
     },
     "execution_count": 1251,
     "metadata": {},
     "output_type": "execute_result"
    }
   ],
   "source": [
    "(model_lgb.predict_proba(X_train,num_iteration=model_lgb.best_iteration_)[:,1]>0.5).sum()"
   ]
  },
  {
   "cell_type": "code",
   "execution_count": 1209,
   "id": "f1fdc0aa-bfa7-43da-bb4a-500a170d7e52",
   "metadata": {},
   "outputs": [
    {
     "data": {
      "text/plain": [
       "array([[ 0.        ,  0.09466006, -1.72380914, ...,  1.60674972,\n",
       "         1.01148176,  1.46821048],\n",
       "       [ 0.        , -0.41504643, -0.06053179, ...,  0.30997579,\n",
       "        -0.55427558, -1.68635938],\n",
       "       [ 0.        ,  1.4913676 ,  0.65230135, ..., -1.78034547,\n",
       "        -0.61827112,  0.05899962],\n",
       "       ...,\n",
       "       [ 0.        , -0.18868588, -0.53575389, ...,  0.78225103,\n",
       "        -0.6481357 , -0.71670913],\n",
       "       [ 0.        ,  1.92171348, -0.53575389, ...,  0.04432012,\n",
       "        -1.01845651,  0.87009929],\n",
       "       [ 0.        , -0.04543319, -0.06053179, ...,  0.36046063,\n",
       "         0.75933937,  1.41493322]])"
      ]
     },
     "execution_count": 1209,
     "metadata": {},
     "output_type": "execute_result"
    }
   ],
   "source": [
    "X_train"
   ]
  },
  {
   "cell_type": "code",
   "execution_count": 1211,
   "id": "8cedf143-f19d-4758-beb2-aa2c9f308832",
   "metadata": {},
   "outputs": [
    {
     "name": "stderr",
     "output_type": "stream",
     "text": [
      "/var/folders/_0/ycth_cf923q232q48fh0mbl80000gn/T/ipykernel_50568/3220575207.py:25: SettingWithCopyWarning: \n",
      "A value is trying to be set on a copy of a slice from a DataFrame.\n",
      "Try using .loc[row_indexer,col_indexer] = value instead\n",
      "\n",
      "See the caveats in the documentation: https://pandas.pydata.org/pandas-docs/stable/user_guide/indexing.html#returning-a-view-versus-a-copy\n",
      "  df_test_non_cat.iloc[:,:]=df_test_non_cat_imp\n"
     ]
    }
   ],
   "source": [
    "\n",
    "\n",
    "df_test = pd.read_csv(\"test.csv\",index_col=0)\n",
    "df_test['m_3_missing'] = df_test.measurement_3.isna()\n",
    "df_test['m_5_missing'] = df_test.measurement_5.isna()\n",
    "df_test['m_4_missing'] = df_test.measurement_4.isna()\n",
    "df_test['m_9_missing'] = df_test.measurement_9.isna()\n",
    "\n",
    "df_test['area'] = df_test['attribute_2']*df_test['attribute_3']\n",
    "df_test['plus01'] = df_test[\"measurement_0\"]+df_test[\"measurement_1\"]\n",
    "df_test['plus02'] = df_test[\"measurement_0\"]+df_test[\"measurement_2\"]\n",
    "df_test['plus03'] = df_test[\"measurement_0\"]+df_test[\"measurement_1\"]+df[\"measurement_2\"]\n",
    "df_test['mean_mean35681011'] = df_test[['measurement_3','measurement_5','measurement_6','measurement_8','measurement_10','measurement_11','measurement_13','measurement_14','measurement_15','measurement_16']].mean(axis=1)\n",
    "df_test['mean_std35681011'] = df_test[['measurement_3','measurement_5','measurement_6','measurement_8','measurement_10','measurement_11','measurement_13','measurement_14','measurement_15','measurement_16']].std(axis=1)\n",
    "df_test['mean_mean49912'] = df_test[['measurement_4','measurement_7','measurement_9','measurement_12']].mean(axis=1)\n",
    "df_test['mean_std47912'] = df_test[['measurement_4','measurement_7','measurement_9','measurement_12']].std(axis=1)\n",
    "\n",
    "df_test['loading'] = np.log(df_test[\"loading\"])\n",
    "f = (df_test['attribute_0']=='material_7') & (df_test['attribute_1']=='material_8')\n",
    "df_test.loc[f,'material']=1\n",
    "df_test.loc[~f,'material']=0\n",
    "\n",
    "cat = [\"product_code\",\"attribute_0\",\"attribute_1\",'m_3_missing','m_4_missing','m_5_missing','m_9_missing','material']\n",
    "non_cat = [k for k in df_test if k not in cat]\n",
    "df_test_non_cat = df_test[non_cat]\n",
    "df_test_non_cat_imp= imputer.transform(df_test_non_cat)\n",
    "df_test_non_cat.iloc[:,:]=df_test_non_cat_imp\n",
    "df_test_non_cat = df_test_non_cat[[\"loading\",\"measurement_1\",\"measurement_2\",\"measurement_17\",'plus02','area','mean_mean35681011','mean_std35681011','mean_mean49912','mean_std47912']]\n",
    "df_test_cat = df_test[['m_3_missing']]\n",
    "#df_test_non_cat = imputer.transform(df_test_non_cat)\n",
    "df_test_non_cat = sc.transform(df_test_non_cat)\n",
    "#df_test_non_cat = PCA.transform(df_test_non_cat)\n",
    "X_test = np.concatenate((pd.get_dummies(df_test_cat).values,df_test_non_cat),axis=1)"
   ]
  },
  {
   "cell_type": "code",
   "execution_count": 1212,
   "id": "b94c46d5-b9e6-4368-a296-77f56d284c59",
   "metadata": {},
   "outputs": [],
   "source": [
    "pd.DataFrame((model_log.predict_proba(X_test)+model_RF.predict_proba(X_test)+model_lgb.predict_proba(X_test,num_iteration=model_lgb.best_iteration_)+modelGNB.predict_proba(X_test))/4).to_csv(\"essem4.csv\")"
   ]
  },
  {
   "cell_type": "code",
   "execution_count": 1213,
   "id": "49c2be39-b75f-4d87-b7be-c691b80eaed2",
   "metadata": {},
   "outputs": [],
   "source": [
    "pd.DataFrame(model_lgb.predict_proba(X_train)).to_csv(\"boost.csv\")"
   ]
  },
  {
   "cell_type": "code",
   "execution_count": 734,
   "id": "5a3efce0-5d8d-4925-8f40-8d33d60e6509",
   "metadata": {},
   "outputs": [
    {
     "data": {
      "text/plain": [
       "array([[ 0.        ,  0.        , -0.21326027, ..., -2.35647468,\n",
       "        -2.72122619, -0.01901651],\n",
       "       [ 0.        ,  0.        , -0.36939028, ..., -2.35647468,\n",
       "        -2.74661801, -0.37742816],\n",
       "       [ 0.        ,  0.        , -0.40417172, ..., -2.35647468,\n",
       "        -2.73137843,  0.09247278],\n",
       "       ...,\n",
       "       [ 0.        ,  1.        , -1.54886751, ..., -0.26772028,\n",
       "        -2.68175294,  0.77640036],\n",
       "       [ 0.        ,  0.        , -0.04373296, ..., -0.26772028,\n",
       "        -2.71572965,  0.48314567],\n",
       "       [ 0.        ,  0.        , -1.07893163, ..., -0.26772028,\n",
       "        -2.71134835,  0.04102139]])"
      ]
     },
     "execution_count": 734,
     "metadata": {},
     "output_type": "execute_result"
    }
   ],
   "source": [
    "X_test"
   ]
  },
  {
   "cell_type": "code",
   "execution_count": 735,
   "id": "235df6f3-b227-467c-b445-efe3d26c21c6",
   "metadata": {},
   "outputs": [
    {
     "data": {
      "text/plain": [
       "array([[ 0.        ,  0.        , -0.05352329, ..., -0.26772028,\n",
       "         1.09444168,  1.09759336],\n",
       "       [ 0.        ,  0.        , -0.5082584 , ..., -0.26772028,\n",
       "         0.57386766,  0.55851115],\n",
       "       [ 0.        ,  0.        ,  1.61006004, ..., -0.76504275,\n",
       "        -0.00520723,  0.07680884],\n",
       "       ...,\n",
       "       [ 0.        ,  0.        , -0.31477054, ..., -0.26772028,\n",
       "         0.97289372,  0.97291127],\n",
       "       [ 0.        ,  0.        ,  2.27786366, ..., -0.76504275,\n",
       "        -0.44643365, -0.38990352],\n",
       "       [ 0.        ,  0.        , -0.18543512, ...,  0.62746018,\n",
       "         0.47979031,  0.56759904]])"
      ]
     },
     "execution_count": 735,
     "metadata": {},
     "output_type": "execute_result"
    }
   ],
   "source": [
    "X_train"
   ]
  },
  {
   "cell_type": "code",
   "execution_count": 1170,
   "id": "64480428-99f3-4637-a29e-947c635ef82f",
   "metadata": {},
   "outputs": [
    {
     "data": {
      "text/plain": [
       "0"
      ]
     },
     "execution_count": 1170,
     "metadata": {},
     "output_type": "execute_result"
    }
   ],
   "source": [
    "(model_RF.predict_proba(X_test)[:,1]>0.4).sum()"
   ]
  },
  {
   "cell_type": "code",
   "execution_count": 1235,
   "id": "4ba20c17-96ab-4458-a97a-9d574f7262a2",
   "metadata": {},
   "outputs": [
    {
     "data": {
      "text/plain": [
       "0"
      ]
     },
     "execution_count": 1235,
     "metadata": {},
     "output_type": "execute_result"
    }
   ],
   "source": [
    "(model_lgb.predict_proba(X_train,num_iteration=model_lgb.best_iteration_)[:,1]>0.5).sum()"
   ]
  },
  {
   "cell_type": "code",
   "execution_count": 1144,
   "id": "a9b67b31-92fc-4a72-99a0-4db4dbd11708",
   "metadata": {},
   "outputs": [
    {
     "data": {
      "text/plain": [
       "array([[0.79005641, 0.20994359],\n",
       "       [0.82325907, 0.17674093],\n",
       "       [0.80356758, 0.19643242],\n",
       "       ...,\n",
       "       [0.87380955, 0.12619045],\n",
       "       [0.76547225, 0.23452775],\n",
       "       [0.83669245, 0.16330755]])"
      ]
     },
     "execution_count": 1144,
     "metadata": {},
     "output_type": "execute_result"
    }
   ],
   "source": [
    "model_log.predict_proba(X_test)"
   ]
  },
  {
   "cell_type": "code",
   "execution_count": 1145,
   "id": "8766dd6a-325e-4d67-88ea-6d570affdf57",
   "metadata": {},
   "outputs": [
    {
     "data": {
      "text/plain": [
       "array([[0.77295519, 0.22704481],\n",
       "       [0.80108793, 0.19891207],\n",
       "       [0.7898728 , 0.2101272 ],\n",
       "       ...,\n",
       "       [0.83783161, 0.16216839],\n",
       "       [0.69947884, 0.30052116],\n",
       "       [0.79742644, 0.20257356]])"
      ]
     },
     "execution_count": 1145,
     "metadata": {},
     "output_type": "execute_result"
    }
   ],
   "source": [
    "modelGNB.predict_proba(X_test)"
   ]
  },
  {
   "cell_type": "code",
   "execution_count": null,
   "id": "ed4cf20f-f078-4885-baa9-bbdab3cd5898",
   "metadata": {},
   "outputs": [],
   "source": []
  }
 ],
 "metadata": {
  "kernelspec": {
   "display_name": "Python 3 (ipykernel)",
   "language": "python",
   "name": "python3"
  },
  "language_info": {
   "codemirror_mode": {
    "name": "ipython",
    "version": 3
   },
   "file_extension": ".py",
   "mimetype": "text/x-python",
   "name": "python",
   "nbconvert_exporter": "python",
   "pygments_lexer": "ipython3",
   "version": "3.9.12"
  }
 },
 "nbformat": 4,
 "nbformat_minor": 5
}
